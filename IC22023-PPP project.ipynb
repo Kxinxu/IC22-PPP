{
  "nbformat": 4,
  "nbformat_minor": 0,
  "metadata": {
    "colab": {
      "name": "Untitled1.ipynb",
      "provenance": []
    },
    "kernelspec": {
      "name": "python3",
      "display_name": "Python 3"
    },
    "language_info": {
      "name": "python"
    }
  },
  "cells": [
    {
      "cell_type": "markdown",
      "source": [
        "# Data Preparation"
      ],
      "metadata": {
        "id": "I8qJImXRZCCk"
      }
    },
    {
      "cell_type": "code",
      "execution_count": 1,
      "metadata": {
        "id": "rQEapNcQnye9"
      },
      "outputs": [],
      "source": [
        "import numpy as np\n",
        "import pandas as pd"
      ]
    },
    {
      "cell_type": "code",
      "source": [
        "full = pd.read_csv('/content/ppp_applicants_ga_full.csv')\n",
        "full['isRemoved'] = 0"
      ],
      "metadata": {
        "id": "klPGPtnVoclW"
      },
      "execution_count": 2,
      "outputs": []
    },
    {
      "cell_type": "code",
      "source": [
        "full.head()"
      ],
      "metadata": {
        "colab": {
          "base_uri": "https://localhost:8080/",
          "height": 467
        },
        "id": "Urdt2D06pRmc",
        "outputId": "206b020e-130e-41fd-a8b4-64820f57ad64"
      },
      "execution_count": 3,
      "outputs": [
        {
          "output_type": "execute_result",
          "data": {
            "text/html": [
              "\n",
              "  <div id=\"df-d1864e26-3d5f-47b5-8836-b9417c289513\">\n",
              "    <div class=\"colab-df-container\">\n",
              "      <div>\n",
              "<style scoped>\n",
              "    .dataframe tbody tr th:only-of-type {\n",
              "        vertical-align: middle;\n",
              "    }\n",
              "\n",
              "    .dataframe tbody tr th {\n",
              "        vertical-align: top;\n",
              "    }\n",
              "\n",
              "    .dataframe thead th {\n",
              "        text-align: right;\n",
              "    }\n",
              "</style>\n",
              "<table border=\"1\" class=\"dataframe\">\n",
              "  <thead>\n",
              "    <tr style=\"text-align: right;\">\n",
              "      <th></th>\n",
              "      <th>name</th>\n",
              "      <th>amount</th>\n",
              "      <th>state</th>\n",
              "      <th>address</th>\n",
              "      <th>city</th>\n",
              "      <th>zip</th>\n",
              "      <th>naics_code</th>\n",
              "      <th>business_type</th>\n",
              "      <th>jobs_retained</th>\n",
              "      <th>date_approved</th>\n",
              "      <th>...</th>\n",
              "      <th>project_state</th>\n",
              "      <th>project_zip</th>\n",
              "      <th>originating_lender_city</th>\n",
              "      <th>originating_lender_state</th>\n",
              "      <th>loan_status_date</th>\n",
              "      <th>originating_lender_location_id</th>\n",
              "      <th>lmi_indicator</th>\n",
              "      <th>forgiveness_amount</th>\n",
              "      <th>forgiveness_date</th>\n",
              "      <th>isRemoved</th>\n",
              "    </tr>\n",
              "  </thead>\n",
              "  <tbody>\n",
              "    <tr>\n",
              "      <th>0</th>\n",
              "      <td>LUMMUS CORPORATION</td>\n",
              "      <td>2000000.0</td>\n",
              "      <td>GA</td>\n",
              "      <td>225 Bourne Blvd</td>\n",
              "      <td>Savannah</td>\n",
              "      <td>31408-9586</td>\n",
              "      <td>333249.0</td>\n",
              "      <td>Corporation</td>\n",
              "      <td>294</td>\n",
              "      <td>2021-02-20</td>\n",
              "      <td>...</td>\n",
              "      <td>GA</td>\n",
              "      <td>31408-9586</td>\n",
              "      <td>CHICAGO</td>\n",
              "      <td>IL</td>\n",
              "      <td>NaN</td>\n",
              "      <td>116998</td>\n",
              "      <td>N</td>\n",
              "      <td>NaN</td>\n",
              "      <td>NaN</td>\n",
              "      <td>0</td>\n",
              "    </tr>\n",
              "    <tr>\n",
              "      <th>1</th>\n",
              "      <td>COLIANT SOLUTIONS INC.</td>\n",
              "      <td>1294555.0</td>\n",
              "      <td>GA</td>\n",
              "      <td>2703 Brickton North Dr</td>\n",
              "      <td>Buford</td>\n",
              "      <td>30518-9101</td>\n",
              "      <td>541519.0</td>\n",
              "      <td>Corporation</td>\n",
              "      <td>63</td>\n",
              "      <td>2021-01-31</td>\n",
              "      <td>...</td>\n",
              "      <td>GA</td>\n",
              "      <td>30518-9101</td>\n",
              "      <td>COLUMBUS</td>\n",
              "      <td>GA</td>\n",
              "      <td>NaN</td>\n",
              "      <td>19248</td>\n",
              "      <td>Y</td>\n",
              "      <td>NaN</td>\n",
              "      <td>NaN</td>\n",
              "      <td>0</td>\n",
              "    </tr>\n",
              "    <tr>\n",
              "      <th>2</th>\n",
              "      <td>YOHE PLUMBING INC</td>\n",
              "      <td>729509.0</td>\n",
              "      <td>GA</td>\n",
              "      <td>1120 Franke Court N/A</td>\n",
              "      <td>Augusta</td>\n",
              "      <td>30909</td>\n",
              "      <td>238220.0</td>\n",
              "      <td>Corporation</td>\n",
              "      <td>105</td>\n",
              "      <td>2021-03-12</td>\n",
              "      <td>...</td>\n",
              "      <td>GA</td>\n",
              "      <td>30909</td>\n",
              "      <td>PHOENIXVILLE</td>\n",
              "      <td>PA</td>\n",
              "      <td>NaN</td>\n",
              "      <td>121536</td>\n",
              "      <td>N</td>\n",
              "      <td>NaN</td>\n",
              "      <td>NaN</td>\n",
              "      <td>0</td>\n",
              "    </tr>\n",
              "    <tr>\n",
              "      <th>3</th>\n",
              "      <td>LEWIS COLOR LITHOGRAPHERS INC</td>\n",
              "      <td>571193.4</td>\n",
              "      <td>GA</td>\n",
              "      <td>30 Joe Kennedy Blvd</td>\n",
              "      <td>Statesboro</td>\n",
              "      <td>30458-3417</td>\n",
              "      <td>323111.0</td>\n",
              "      <td>Corporation</td>\n",
              "      <td>49</td>\n",
              "      <td>2021-02-02</td>\n",
              "      <td>...</td>\n",
              "      <td>GA</td>\n",
              "      <td>30458-3417</td>\n",
              "      <td>COLUMBUS</td>\n",
              "      <td>GA</td>\n",
              "      <td>NaN</td>\n",
              "      <td>19248</td>\n",
              "      <td>N</td>\n",
              "      <td>NaN</td>\n",
              "      <td>NaN</td>\n",
              "      <td>0</td>\n",
              "    </tr>\n",
              "    <tr>\n",
              "      <th>4</th>\n",
              "      <td>ALMA PAK INTERNATIONAL, LLC</td>\n",
              "      <td>472700.0</td>\n",
              "      <td>GA</td>\n",
              "      <td>230 PINEVIEW RD</td>\n",
              "      <td>ALMA</td>\n",
              "      <td>31510-4326</td>\n",
              "      <td>445230.0</td>\n",
              "      <td>Partnership</td>\n",
              "      <td>37</td>\n",
              "      <td>2020-04-10</td>\n",
              "      <td>...</td>\n",
              "      <td>GA</td>\n",
              "      <td>31510-4326</td>\n",
              "      <td>ALMA</td>\n",
              "      <td>GA</td>\n",
              "      <td>2021-01-08</td>\n",
              "      <td>17811</td>\n",
              "      <td>N</td>\n",
              "      <td>475877.59</td>\n",
              "      <td>2020-12-15</td>\n",
              "      <td>0</td>\n",
              "    </tr>\n",
              "  </tbody>\n",
              "</table>\n",
              "<p>5 rows × 42 columns</p>\n",
              "</div>\n",
              "      <button class=\"colab-df-convert\" onclick=\"convertToInteractive('df-d1864e26-3d5f-47b5-8836-b9417c289513')\"\n",
              "              title=\"Convert this dataframe to an interactive table.\"\n",
              "              style=\"display:none;\">\n",
              "        \n",
              "  <svg xmlns=\"http://www.w3.org/2000/svg\" height=\"24px\"viewBox=\"0 0 24 24\"\n",
              "       width=\"24px\">\n",
              "    <path d=\"M0 0h24v24H0V0z\" fill=\"none\"/>\n",
              "    <path d=\"M18.56 5.44l.94 2.06.94-2.06 2.06-.94-2.06-.94-.94-2.06-.94 2.06-2.06.94zm-11 1L8.5 8.5l.94-2.06 2.06-.94-2.06-.94L8.5 2.5l-.94 2.06-2.06.94zm10 10l.94 2.06.94-2.06 2.06-.94-2.06-.94-.94-2.06-.94 2.06-2.06.94z\"/><path d=\"M17.41 7.96l-1.37-1.37c-.4-.4-.92-.59-1.43-.59-.52 0-1.04.2-1.43.59L10.3 9.45l-7.72 7.72c-.78.78-.78 2.05 0 2.83L4 21.41c.39.39.9.59 1.41.59.51 0 1.02-.2 1.41-.59l7.78-7.78 2.81-2.81c.8-.78.8-2.07 0-2.86zM5.41 20L4 18.59l7.72-7.72 1.47 1.35L5.41 20z\"/>\n",
              "  </svg>\n",
              "      </button>\n",
              "      \n",
              "  <style>\n",
              "    .colab-df-container {\n",
              "      display:flex;\n",
              "      flex-wrap:wrap;\n",
              "      gap: 12px;\n",
              "    }\n",
              "\n",
              "    .colab-df-convert {\n",
              "      background-color: #E8F0FE;\n",
              "      border: none;\n",
              "      border-radius: 50%;\n",
              "      cursor: pointer;\n",
              "      display: none;\n",
              "      fill: #1967D2;\n",
              "      height: 32px;\n",
              "      padding: 0 0 0 0;\n",
              "      width: 32px;\n",
              "    }\n",
              "\n",
              "    .colab-df-convert:hover {\n",
              "      background-color: #E2EBFA;\n",
              "      box-shadow: 0px 1px 2px rgba(60, 64, 67, 0.3), 0px 1px 3px 1px rgba(60, 64, 67, 0.15);\n",
              "      fill: #174EA6;\n",
              "    }\n",
              "\n",
              "    [theme=dark] .colab-df-convert {\n",
              "      background-color: #3B4455;\n",
              "      fill: #D2E3FC;\n",
              "    }\n",
              "\n",
              "    [theme=dark] .colab-df-convert:hover {\n",
              "      background-color: #434B5C;\n",
              "      box-shadow: 0px 1px 3px 1px rgba(0, 0, 0, 0.15);\n",
              "      filter: drop-shadow(0px 1px 2px rgba(0, 0, 0, 0.3));\n",
              "      fill: #FFFFFF;\n",
              "    }\n",
              "  </style>\n",
              "\n",
              "      <script>\n",
              "        const buttonEl =\n",
              "          document.querySelector('#df-d1864e26-3d5f-47b5-8836-b9417c289513 button.colab-df-convert');\n",
              "        buttonEl.style.display =\n",
              "          google.colab.kernel.accessAllowed ? 'block' : 'none';\n",
              "\n",
              "        async function convertToInteractive(key) {\n",
              "          const element = document.querySelector('#df-d1864e26-3d5f-47b5-8836-b9417c289513');\n",
              "          const dataTable =\n",
              "            await google.colab.kernel.invokeFunction('convertToInteractive',\n",
              "                                                     [key], {});\n",
              "          if (!dataTable) return;\n",
              "\n",
              "          const docLinkHtml = 'Like what you see? Visit the ' +\n",
              "            '<a target=\"_blank\" href=https://colab.research.google.com/notebooks/data_table.ipynb>data table notebook</a>'\n",
              "            + ' to learn more about interactive tables.';\n",
              "          element.innerHTML = '';\n",
              "          dataTable['output_type'] = 'display_data';\n",
              "          await google.colab.output.renderOutput(dataTable, element);\n",
              "          const docLink = document.createElement('div');\n",
              "          docLink.innerHTML = docLinkHtml;\n",
              "          element.appendChild(docLink);\n",
              "        }\n",
              "      </script>\n",
              "    </div>\n",
              "  </div>\n",
              "  "
            ],
            "text/plain": [
              "                            name     amount state                 address  \\\n",
              "0             LUMMUS CORPORATION  2000000.0    GA         225 Bourne Blvd   \n",
              "1         COLIANT SOLUTIONS INC.  1294555.0    GA  2703 Brickton North Dr   \n",
              "2              YOHE PLUMBING INC   729509.0    GA   1120 Franke Court N/A   \n",
              "3  LEWIS COLOR LITHOGRAPHERS INC   571193.4    GA     30 Joe Kennedy Blvd   \n",
              "4    ALMA PAK INTERNATIONAL, LLC   472700.0    GA         230 PINEVIEW RD   \n",
              "\n",
              "         city         zip  naics_code business_type  jobs_retained  \\\n",
              "0    Savannah  31408-9586    333249.0   Corporation            294   \n",
              "1      Buford  30518-9101    541519.0   Corporation             63   \n",
              "2     Augusta       30909    238220.0   Corporation            105   \n",
              "3  Statesboro  30458-3417    323111.0   Corporation             49   \n",
              "4        ALMA  31510-4326    445230.0   Partnership             37   \n",
              "\n",
              "  date_approved  ... project_state project_zip  originating_lender_city  \\\n",
              "0    2021-02-20  ...            GA  31408-9586                  CHICAGO   \n",
              "1    2021-01-31  ...            GA  30518-9101                 COLUMBUS   \n",
              "2    2021-03-12  ...            GA       30909             PHOENIXVILLE   \n",
              "3    2021-02-02  ...            GA  30458-3417                 COLUMBUS   \n",
              "4    2020-04-10  ...            GA  31510-4326                     ALMA   \n",
              "\n",
              "   originating_lender_state loan_status_date originating_lender_location_id  \\\n",
              "0                        IL              NaN                         116998   \n",
              "1                        GA              NaN                          19248   \n",
              "2                        PA              NaN                         121536   \n",
              "3                        GA              NaN                          19248   \n",
              "4                        GA       2021-01-08                          17811   \n",
              "\n",
              "   lmi_indicator  forgiveness_amount  forgiveness_date  isRemoved  \n",
              "0              N                 NaN               NaN          0  \n",
              "1              Y                 NaN               NaN          0  \n",
              "2              N                 NaN               NaN          0  \n",
              "3              N                 NaN               NaN          0  \n",
              "4              N           475877.59        2020-12-15          0  \n",
              "\n",
              "[5 rows x 42 columns]"
            ]
          },
          "metadata": {},
          "execution_count": 3
        }
      ]
    },
    {
      "cell_type": "code",
      "source": [
        "full.shape"
      ],
      "metadata": {
        "colab": {
          "base_uri": "https://localhost:8080/"
        },
        "id": "hsZwsicCGvQn",
        "outputId": "5534b8d7-54e6-4783-dc1b-a0b51ccd6621"
      },
      "execution_count": 4,
      "outputs": [
        {
          "output_type": "execute_result",
          "data": {
            "text/plain": [
              "(553828, 42)"
            ]
          },
          "metadata": {},
          "execution_count": 4
        }
      ]
    },
    {
      "cell_type": "code",
      "source": [
        "removed = pd.read_excel('/content/ppp-removed-ga.xlsx')\n",
        "removed['isRemoved'] = 1"
      ],
      "metadata": {
        "id": "vYVGKg5LqQhJ"
      },
      "execution_count": 5,
      "outputs": []
    },
    {
      "cell_type": "code",
      "source": [
        "removed.head()"
      ],
      "metadata": {
        "id": "tPzf4kt5vHE1",
        "outputId": "3416115d-0bcb-4cb1-b868-1f50470c20f4",
        "colab": {
          "base_uri": "https://localhost:8080/",
          "height": 501
        }
      },
      "execution_count": 6,
      "outputs": [
        {
          "output_type": "execute_result",
          "data": {
            "text/html": [
              "\n",
              "  <div id=\"df-2bb7f94d-2992-4555-8de0-6eca2a8fcb72\">\n",
              "    <div class=\"colab-df-container\">\n",
              "      <div>\n",
              "<style scoped>\n",
              "    .dataframe tbody tr th:only-of-type {\n",
              "        vertical-align: middle;\n",
              "    }\n",
              "\n",
              "    .dataframe tbody tr th {\n",
              "        vertical-align: top;\n",
              "    }\n",
              "\n",
              "    .dataframe thead th {\n",
              "        text-align: right;\n",
              "    }\n",
              "</style>\n",
              "<table border=\"1\" class=\"dataframe\">\n",
              "  <thead>\n",
              "    <tr style=\"text-align: right;\">\n",
              "      <th></th>\n",
              "      <th>name</th>\n",
              "      <th>amount</th>\n",
              "      <th>state</th>\n",
              "      <th>address</th>\n",
              "      <th>city</th>\n",
              "      <th>zip</th>\n",
              "      <th>naics_code</th>\n",
              "      <th>business_type</th>\n",
              "      <th>jobs_retained</th>\n",
              "      <th>date_approved</th>\n",
              "      <th>...</th>\n",
              "      <th>project_state</th>\n",
              "      <th>project_zip</th>\n",
              "      <th>originating_lender_city</th>\n",
              "      <th>originating_lender_state</th>\n",
              "      <th>loan_status_date</th>\n",
              "      <th>originating_lender_location_id</th>\n",
              "      <th>lmi_indicator</th>\n",
              "      <th>forgiveness_amount</th>\n",
              "      <th>forgiveness_date</th>\n",
              "      <th>isRemoved</th>\n",
              "    </tr>\n",
              "  </thead>\n",
              "  <tbody>\n",
              "    <tr>\n",
              "      <th>0</th>\n",
              "      <td>TRIPLE C CUSTOM CONCRETE LLC</td>\n",
              "      <td>43655.0</td>\n",
              "      <td>GA</td>\n",
              "      <td>106 Lisa Street  East Dublin GA</td>\n",
              "      <td>East Dublin</td>\n",
              "      <td>31027.0</td>\n",
              "      <td>238990.0</td>\n",
              "      <td>Limited  Liability Company(LLC)</td>\n",
              "      <td>7.0</td>\n",
              "      <td>2021-05-11</td>\n",
              "      <td>...</td>\n",
              "      <td>GA</td>\n",
              "      <td>31027.0</td>\n",
              "      <td>Saint Petersburg</td>\n",
              "      <td>FL</td>\n",
              "      <td>2021-05-11</td>\n",
              "      <td>123499.0</td>\n",
              "      <td>Y</td>\n",
              "      <td>NaN</td>\n",
              "      <td>NaN</td>\n",
              "      <td>1</td>\n",
              "    </tr>\n",
              "    <tr>\n",
              "      <th>1</th>\n",
              "      <td>DAVIS LAWN CARE SERVICES</td>\n",
              "      <td>35000.0</td>\n",
              "      <td>GA</td>\n",
              "      <td>752 Savannah Ave N/A</td>\n",
              "      <td>Waynesboro</td>\n",
              "      <td>30830-1156</td>\n",
              "      <td>112910.0</td>\n",
              "      <td>Partnership</td>\n",
              "      <td>2.0</td>\n",
              "      <td>2021-05-12</td>\n",
              "      <td>...</td>\n",
              "      <td>GA</td>\n",
              "      <td>30830-1156</td>\n",
              "      <td>ARLINGTON</td>\n",
              "      <td>MA</td>\n",
              "      <td>2021-05-12</td>\n",
              "      <td>262380.0</td>\n",
              "      <td>N</td>\n",
              "      <td>NaN</td>\n",
              "      <td>NaN</td>\n",
              "      <td>1</td>\n",
              "    </tr>\n",
              "    <tr>\n",
              "      <th>2</th>\n",
              "      <td>LONNIE RATLIFF</td>\n",
              "      <td>28949.0</td>\n",
              "      <td>GA</td>\n",
              "      <td>55 Maple St NW Apt 802</td>\n",
              "      <td>Atlanta</td>\n",
              "      <td>30314-4760</td>\n",
              "      <td>531390.0</td>\n",
              "      <td>Single Member LLC</td>\n",
              "      <td>5.0</td>\n",
              "      <td>2021-04-16</td>\n",
              "      <td>...</td>\n",
              "      <td>GA</td>\n",
              "      <td>30314-4760</td>\n",
              "      <td>PHOENIXVILLE</td>\n",
              "      <td>PA</td>\n",
              "      <td>2021-04-16</td>\n",
              "      <td>121536.0</td>\n",
              "      <td>Y</td>\n",
              "      <td>NaN</td>\n",
              "      <td>NaN</td>\n",
              "      <td>1</td>\n",
              "    </tr>\n",
              "    <tr>\n",
              "      <th>3</th>\n",
              "      <td>DENARD TRIMBLE</td>\n",
              "      <td>20833.0</td>\n",
              "      <td>GA</td>\n",
              "      <td>727 Chapman St</td>\n",
              "      <td>Jonesboro</td>\n",
              "      <td>30238-5681</td>\n",
              "      <td>812111.0</td>\n",
              "      <td>Sole Proprietorship</td>\n",
              "      <td>1.0</td>\n",
              "      <td>2021-05-22</td>\n",
              "      <td>...</td>\n",
              "      <td>GA</td>\n",
              "      <td>30238-5681</td>\n",
              "      <td>Brea</td>\n",
              "      <td>CA</td>\n",
              "      <td>2021-05-22</td>\n",
              "      <td>514546.0</td>\n",
              "      <td>Y</td>\n",
              "      <td>NaN</td>\n",
              "      <td>NaN</td>\n",
              "      <td>1</td>\n",
              "    </tr>\n",
              "    <tr>\n",
              "      <th>4</th>\n",
              "      <td>DANA VINES</td>\n",
              "      <td>20833.0</td>\n",
              "      <td>GA</td>\n",
              "      <td>3548 Tracey Dr</td>\n",
              "      <td>Duluth</td>\n",
              "      <td>30096-3861</td>\n",
              "      <td>311999.0</td>\n",
              "      <td>Sole Proprietorship</td>\n",
              "      <td>1.0</td>\n",
              "      <td>2021-03-20</td>\n",
              "      <td>...</td>\n",
              "      <td>GA</td>\n",
              "      <td>30096-3861</td>\n",
              "      <td>Miami</td>\n",
              "      <td>FL</td>\n",
              "      <td>2021-03-20</td>\n",
              "      <td>529192.0</td>\n",
              "      <td>N</td>\n",
              "      <td>NaN</td>\n",
              "      <td>NaN</td>\n",
              "      <td>1</td>\n",
              "    </tr>\n",
              "  </tbody>\n",
              "</table>\n",
              "<p>5 rows × 42 columns</p>\n",
              "</div>\n",
              "      <button class=\"colab-df-convert\" onclick=\"convertToInteractive('df-2bb7f94d-2992-4555-8de0-6eca2a8fcb72')\"\n",
              "              title=\"Convert this dataframe to an interactive table.\"\n",
              "              style=\"display:none;\">\n",
              "        \n",
              "  <svg xmlns=\"http://www.w3.org/2000/svg\" height=\"24px\"viewBox=\"0 0 24 24\"\n",
              "       width=\"24px\">\n",
              "    <path d=\"M0 0h24v24H0V0z\" fill=\"none\"/>\n",
              "    <path d=\"M18.56 5.44l.94 2.06.94-2.06 2.06-.94-2.06-.94-.94-2.06-.94 2.06-2.06.94zm-11 1L8.5 8.5l.94-2.06 2.06-.94-2.06-.94L8.5 2.5l-.94 2.06-2.06.94zm10 10l.94 2.06.94-2.06 2.06-.94-2.06-.94-.94-2.06-.94 2.06-2.06.94z\"/><path d=\"M17.41 7.96l-1.37-1.37c-.4-.4-.92-.59-1.43-.59-.52 0-1.04.2-1.43.59L10.3 9.45l-7.72 7.72c-.78.78-.78 2.05 0 2.83L4 21.41c.39.39.9.59 1.41.59.51 0 1.02-.2 1.41-.59l7.78-7.78 2.81-2.81c.8-.78.8-2.07 0-2.86zM5.41 20L4 18.59l7.72-7.72 1.47 1.35L5.41 20z\"/>\n",
              "  </svg>\n",
              "      </button>\n",
              "      \n",
              "  <style>\n",
              "    .colab-df-container {\n",
              "      display:flex;\n",
              "      flex-wrap:wrap;\n",
              "      gap: 12px;\n",
              "    }\n",
              "\n",
              "    .colab-df-convert {\n",
              "      background-color: #E8F0FE;\n",
              "      border: none;\n",
              "      border-radius: 50%;\n",
              "      cursor: pointer;\n",
              "      display: none;\n",
              "      fill: #1967D2;\n",
              "      height: 32px;\n",
              "      padding: 0 0 0 0;\n",
              "      width: 32px;\n",
              "    }\n",
              "\n",
              "    .colab-df-convert:hover {\n",
              "      background-color: #E2EBFA;\n",
              "      box-shadow: 0px 1px 2px rgba(60, 64, 67, 0.3), 0px 1px 3px 1px rgba(60, 64, 67, 0.15);\n",
              "      fill: #174EA6;\n",
              "    }\n",
              "\n",
              "    [theme=dark] .colab-df-convert {\n",
              "      background-color: #3B4455;\n",
              "      fill: #D2E3FC;\n",
              "    }\n",
              "\n",
              "    [theme=dark] .colab-df-convert:hover {\n",
              "      background-color: #434B5C;\n",
              "      box-shadow: 0px 1px 3px 1px rgba(0, 0, 0, 0.15);\n",
              "      filter: drop-shadow(0px 1px 2px rgba(0, 0, 0, 0.3));\n",
              "      fill: #FFFFFF;\n",
              "    }\n",
              "  </style>\n",
              "\n",
              "      <script>\n",
              "        const buttonEl =\n",
              "          document.querySelector('#df-2bb7f94d-2992-4555-8de0-6eca2a8fcb72 button.colab-df-convert');\n",
              "        buttonEl.style.display =\n",
              "          google.colab.kernel.accessAllowed ? 'block' : 'none';\n",
              "\n",
              "        async function convertToInteractive(key) {\n",
              "          const element = document.querySelector('#df-2bb7f94d-2992-4555-8de0-6eca2a8fcb72');\n",
              "          const dataTable =\n",
              "            await google.colab.kernel.invokeFunction('convertToInteractive',\n",
              "                                                     [key], {});\n",
              "          if (!dataTable) return;\n",
              "\n",
              "          const docLinkHtml = 'Like what you see? Visit the ' +\n",
              "            '<a target=\"_blank\" href=https://colab.research.google.com/notebooks/data_table.ipynb>data table notebook</a>'\n",
              "            + ' to learn more about interactive tables.';\n",
              "          element.innerHTML = '';\n",
              "          dataTable['output_type'] = 'display_data';\n",
              "          await google.colab.output.renderOutput(dataTable, element);\n",
              "          const docLink = document.createElement('div');\n",
              "          docLink.innerHTML = docLinkHtml;\n",
              "          element.appendChild(docLink);\n",
              "        }\n",
              "      </script>\n",
              "    </div>\n",
              "  </div>\n",
              "  "
            ],
            "text/plain": [
              "                           name   amount state  \\\n",
              "0  TRIPLE C CUSTOM CONCRETE LLC  43655.0    GA   \n",
              "1      DAVIS LAWN CARE SERVICES  35000.0    GA   \n",
              "2                LONNIE RATLIFF  28949.0    GA   \n",
              "3                DENARD TRIMBLE  20833.0    GA   \n",
              "4                    DANA VINES  20833.0    GA   \n",
              "\n",
              "                           address         city         zip  naics_code  \\\n",
              "0  106 Lisa Street  East Dublin GA  East Dublin     31027.0    238990.0   \n",
              "1             752 Savannah Ave N/A   Waynesboro  30830-1156    112910.0   \n",
              "2           55 Maple St NW Apt 802      Atlanta  30314-4760    531390.0   \n",
              "3                   727 Chapman St    Jonesboro  30238-5681    812111.0   \n",
              "4                   3548 Tracey Dr       Duluth  30096-3861    311999.0   \n",
              "\n",
              "                     business_type  jobs_retained date_approved  ...  \\\n",
              "0  Limited  Liability Company(LLC)            7.0    2021-05-11  ...   \n",
              "1                      Partnership            2.0    2021-05-12  ...   \n",
              "2                Single Member LLC            5.0    2021-04-16  ...   \n",
              "3              Sole Proprietorship            1.0    2021-05-22  ...   \n",
              "4              Sole Proprietorship            1.0    2021-03-20  ...   \n",
              "\n",
              "  project_state project_zip  originating_lender_city  \\\n",
              "0            GA     31027.0         Saint Petersburg   \n",
              "1            GA  30830-1156                ARLINGTON   \n",
              "2            GA  30314-4760             PHOENIXVILLE   \n",
              "3            GA  30238-5681                     Brea   \n",
              "4            GA  30096-3861                    Miami   \n",
              "\n",
              "   originating_lender_state loan_status_date originating_lender_location_id  \\\n",
              "0                        FL       2021-05-11                       123499.0   \n",
              "1                        MA       2021-05-12                       262380.0   \n",
              "2                        PA       2021-04-16                       121536.0   \n",
              "3                        CA       2021-05-22                       514546.0   \n",
              "4                        FL       2021-03-20                       529192.0   \n",
              "\n",
              "   lmi_indicator  forgiveness_amount  forgiveness_date  isRemoved  \n",
              "0              Y                 NaN               NaN          1  \n",
              "1              N                 NaN               NaN          1  \n",
              "2              Y                 NaN               NaN          1  \n",
              "3              Y                 NaN               NaN          1  \n",
              "4              N                 NaN               NaN          1  \n",
              "\n",
              "[5 rows x 42 columns]"
            ]
          },
          "metadata": {},
          "execution_count": 6
        }
      ]
    },
    {
      "cell_type": "code",
      "source": [
        "#combine two datasets together\n",
        "df= full.append(removed)\n",
        "df.head()"
      ],
      "metadata": {
        "colab": {
          "base_uri": "https://localhost:8080/",
          "height": 467
        },
        "id": "CYSJtRVt-IJ7",
        "outputId": "0f9d2bd6-110e-4ec5-b419-25e695436375"
      },
      "execution_count": 7,
      "outputs": [
        {
          "output_type": "execute_result",
          "data": {
            "text/html": [
              "\n",
              "  <div id=\"df-7cf5c93a-f4f7-4093-9074-7834ec734691\">\n",
              "    <div class=\"colab-df-container\">\n",
              "      <div>\n",
              "<style scoped>\n",
              "    .dataframe tbody tr th:only-of-type {\n",
              "        vertical-align: middle;\n",
              "    }\n",
              "\n",
              "    .dataframe tbody tr th {\n",
              "        vertical-align: top;\n",
              "    }\n",
              "\n",
              "    .dataframe thead th {\n",
              "        text-align: right;\n",
              "    }\n",
              "</style>\n",
              "<table border=\"1\" class=\"dataframe\">\n",
              "  <thead>\n",
              "    <tr style=\"text-align: right;\">\n",
              "      <th></th>\n",
              "      <th>name</th>\n",
              "      <th>amount</th>\n",
              "      <th>state</th>\n",
              "      <th>address</th>\n",
              "      <th>city</th>\n",
              "      <th>zip</th>\n",
              "      <th>naics_code</th>\n",
              "      <th>business_type</th>\n",
              "      <th>jobs_retained</th>\n",
              "      <th>date_approved</th>\n",
              "      <th>...</th>\n",
              "      <th>project_state</th>\n",
              "      <th>project_zip</th>\n",
              "      <th>originating_lender_city</th>\n",
              "      <th>originating_lender_state</th>\n",
              "      <th>loan_status_date</th>\n",
              "      <th>originating_lender_location_id</th>\n",
              "      <th>lmi_indicator</th>\n",
              "      <th>forgiveness_amount</th>\n",
              "      <th>forgiveness_date</th>\n",
              "      <th>isRemoved</th>\n",
              "    </tr>\n",
              "  </thead>\n",
              "  <tbody>\n",
              "    <tr>\n",
              "      <th>0</th>\n",
              "      <td>LUMMUS CORPORATION</td>\n",
              "      <td>2000000.0</td>\n",
              "      <td>GA</td>\n",
              "      <td>225 Bourne Blvd</td>\n",
              "      <td>Savannah</td>\n",
              "      <td>31408-9586</td>\n",
              "      <td>333249.0</td>\n",
              "      <td>Corporation</td>\n",
              "      <td>294.0</td>\n",
              "      <td>2021-02-20</td>\n",
              "      <td>...</td>\n",
              "      <td>GA</td>\n",
              "      <td>31408-9586</td>\n",
              "      <td>CHICAGO</td>\n",
              "      <td>IL</td>\n",
              "      <td>NaN</td>\n",
              "      <td>116998.0</td>\n",
              "      <td>N</td>\n",
              "      <td>NaN</td>\n",
              "      <td>NaN</td>\n",
              "      <td>0</td>\n",
              "    </tr>\n",
              "    <tr>\n",
              "      <th>1</th>\n",
              "      <td>COLIANT SOLUTIONS INC.</td>\n",
              "      <td>1294555.0</td>\n",
              "      <td>GA</td>\n",
              "      <td>2703 Brickton North Dr</td>\n",
              "      <td>Buford</td>\n",
              "      <td>30518-9101</td>\n",
              "      <td>541519.0</td>\n",
              "      <td>Corporation</td>\n",
              "      <td>63.0</td>\n",
              "      <td>2021-01-31</td>\n",
              "      <td>...</td>\n",
              "      <td>GA</td>\n",
              "      <td>30518-9101</td>\n",
              "      <td>COLUMBUS</td>\n",
              "      <td>GA</td>\n",
              "      <td>NaN</td>\n",
              "      <td>19248.0</td>\n",
              "      <td>Y</td>\n",
              "      <td>NaN</td>\n",
              "      <td>NaN</td>\n",
              "      <td>0</td>\n",
              "    </tr>\n",
              "    <tr>\n",
              "      <th>2</th>\n",
              "      <td>YOHE PLUMBING INC</td>\n",
              "      <td>729509.0</td>\n",
              "      <td>GA</td>\n",
              "      <td>1120 Franke Court N/A</td>\n",
              "      <td>Augusta</td>\n",
              "      <td>30909</td>\n",
              "      <td>238220.0</td>\n",
              "      <td>Corporation</td>\n",
              "      <td>105.0</td>\n",
              "      <td>2021-03-12</td>\n",
              "      <td>...</td>\n",
              "      <td>GA</td>\n",
              "      <td>30909</td>\n",
              "      <td>PHOENIXVILLE</td>\n",
              "      <td>PA</td>\n",
              "      <td>NaN</td>\n",
              "      <td>121536.0</td>\n",
              "      <td>N</td>\n",
              "      <td>NaN</td>\n",
              "      <td>NaN</td>\n",
              "      <td>0</td>\n",
              "    </tr>\n",
              "    <tr>\n",
              "      <th>3</th>\n",
              "      <td>LEWIS COLOR LITHOGRAPHERS INC</td>\n",
              "      <td>571193.4</td>\n",
              "      <td>GA</td>\n",
              "      <td>30 Joe Kennedy Blvd</td>\n",
              "      <td>Statesboro</td>\n",
              "      <td>30458-3417</td>\n",
              "      <td>323111.0</td>\n",
              "      <td>Corporation</td>\n",
              "      <td>49.0</td>\n",
              "      <td>2021-02-02</td>\n",
              "      <td>...</td>\n",
              "      <td>GA</td>\n",
              "      <td>30458-3417</td>\n",
              "      <td>COLUMBUS</td>\n",
              "      <td>GA</td>\n",
              "      <td>NaN</td>\n",
              "      <td>19248.0</td>\n",
              "      <td>N</td>\n",
              "      <td>NaN</td>\n",
              "      <td>NaN</td>\n",
              "      <td>0</td>\n",
              "    </tr>\n",
              "    <tr>\n",
              "      <th>4</th>\n",
              "      <td>ALMA PAK INTERNATIONAL, LLC</td>\n",
              "      <td>472700.0</td>\n",
              "      <td>GA</td>\n",
              "      <td>230 PINEVIEW RD</td>\n",
              "      <td>ALMA</td>\n",
              "      <td>31510-4326</td>\n",
              "      <td>445230.0</td>\n",
              "      <td>Partnership</td>\n",
              "      <td>37.0</td>\n",
              "      <td>2020-04-10</td>\n",
              "      <td>...</td>\n",
              "      <td>GA</td>\n",
              "      <td>31510-4326</td>\n",
              "      <td>ALMA</td>\n",
              "      <td>GA</td>\n",
              "      <td>2021-01-08</td>\n",
              "      <td>17811.0</td>\n",
              "      <td>N</td>\n",
              "      <td>475877.59</td>\n",
              "      <td>2020-12-15</td>\n",
              "      <td>0</td>\n",
              "    </tr>\n",
              "  </tbody>\n",
              "</table>\n",
              "<p>5 rows × 42 columns</p>\n",
              "</div>\n",
              "      <button class=\"colab-df-convert\" onclick=\"convertToInteractive('df-7cf5c93a-f4f7-4093-9074-7834ec734691')\"\n",
              "              title=\"Convert this dataframe to an interactive table.\"\n",
              "              style=\"display:none;\">\n",
              "        \n",
              "  <svg xmlns=\"http://www.w3.org/2000/svg\" height=\"24px\"viewBox=\"0 0 24 24\"\n",
              "       width=\"24px\">\n",
              "    <path d=\"M0 0h24v24H0V0z\" fill=\"none\"/>\n",
              "    <path d=\"M18.56 5.44l.94 2.06.94-2.06 2.06-.94-2.06-.94-.94-2.06-.94 2.06-2.06.94zm-11 1L8.5 8.5l.94-2.06 2.06-.94-2.06-.94L8.5 2.5l-.94 2.06-2.06.94zm10 10l.94 2.06.94-2.06 2.06-.94-2.06-.94-.94-2.06-.94 2.06-2.06.94z\"/><path d=\"M17.41 7.96l-1.37-1.37c-.4-.4-.92-.59-1.43-.59-.52 0-1.04.2-1.43.59L10.3 9.45l-7.72 7.72c-.78.78-.78 2.05 0 2.83L4 21.41c.39.39.9.59 1.41.59.51 0 1.02-.2 1.41-.59l7.78-7.78 2.81-2.81c.8-.78.8-2.07 0-2.86zM5.41 20L4 18.59l7.72-7.72 1.47 1.35L5.41 20z\"/>\n",
              "  </svg>\n",
              "      </button>\n",
              "      \n",
              "  <style>\n",
              "    .colab-df-container {\n",
              "      display:flex;\n",
              "      flex-wrap:wrap;\n",
              "      gap: 12px;\n",
              "    }\n",
              "\n",
              "    .colab-df-convert {\n",
              "      background-color: #E8F0FE;\n",
              "      border: none;\n",
              "      border-radius: 50%;\n",
              "      cursor: pointer;\n",
              "      display: none;\n",
              "      fill: #1967D2;\n",
              "      height: 32px;\n",
              "      padding: 0 0 0 0;\n",
              "      width: 32px;\n",
              "    }\n",
              "\n",
              "    .colab-df-convert:hover {\n",
              "      background-color: #E2EBFA;\n",
              "      box-shadow: 0px 1px 2px rgba(60, 64, 67, 0.3), 0px 1px 3px 1px rgba(60, 64, 67, 0.15);\n",
              "      fill: #174EA6;\n",
              "    }\n",
              "\n",
              "    [theme=dark] .colab-df-convert {\n",
              "      background-color: #3B4455;\n",
              "      fill: #D2E3FC;\n",
              "    }\n",
              "\n",
              "    [theme=dark] .colab-df-convert:hover {\n",
              "      background-color: #434B5C;\n",
              "      box-shadow: 0px 1px 3px 1px rgba(0, 0, 0, 0.15);\n",
              "      filter: drop-shadow(0px 1px 2px rgba(0, 0, 0, 0.3));\n",
              "      fill: #FFFFFF;\n",
              "    }\n",
              "  </style>\n",
              "\n",
              "      <script>\n",
              "        const buttonEl =\n",
              "          document.querySelector('#df-7cf5c93a-f4f7-4093-9074-7834ec734691 button.colab-df-convert');\n",
              "        buttonEl.style.display =\n",
              "          google.colab.kernel.accessAllowed ? 'block' : 'none';\n",
              "\n",
              "        async function convertToInteractive(key) {\n",
              "          const element = document.querySelector('#df-7cf5c93a-f4f7-4093-9074-7834ec734691');\n",
              "          const dataTable =\n",
              "            await google.colab.kernel.invokeFunction('convertToInteractive',\n",
              "                                                     [key], {});\n",
              "          if (!dataTable) return;\n",
              "\n",
              "          const docLinkHtml = 'Like what you see? Visit the ' +\n",
              "            '<a target=\"_blank\" href=https://colab.research.google.com/notebooks/data_table.ipynb>data table notebook</a>'\n",
              "            + ' to learn more about interactive tables.';\n",
              "          element.innerHTML = '';\n",
              "          dataTable['output_type'] = 'display_data';\n",
              "          await google.colab.output.renderOutput(dataTable, element);\n",
              "          const docLink = document.createElement('div');\n",
              "          docLink.innerHTML = docLinkHtml;\n",
              "          element.appendChild(docLink);\n",
              "        }\n",
              "      </script>\n",
              "    </div>\n",
              "  </div>\n",
              "  "
            ],
            "text/plain": [
              "                            name     amount state                 address  \\\n",
              "0             LUMMUS CORPORATION  2000000.0    GA         225 Bourne Blvd   \n",
              "1         COLIANT SOLUTIONS INC.  1294555.0    GA  2703 Brickton North Dr   \n",
              "2              YOHE PLUMBING INC   729509.0    GA   1120 Franke Court N/A   \n",
              "3  LEWIS COLOR LITHOGRAPHERS INC   571193.4    GA     30 Joe Kennedy Blvd   \n",
              "4    ALMA PAK INTERNATIONAL, LLC   472700.0    GA         230 PINEVIEW RD   \n",
              "\n",
              "         city         zip  naics_code business_type  jobs_retained  \\\n",
              "0    Savannah  31408-9586    333249.0   Corporation          294.0   \n",
              "1      Buford  30518-9101    541519.0   Corporation           63.0   \n",
              "2     Augusta       30909    238220.0   Corporation          105.0   \n",
              "3  Statesboro  30458-3417    323111.0   Corporation           49.0   \n",
              "4        ALMA  31510-4326    445230.0   Partnership           37.0   \n",
              "\n",
              "  date_approved  ... project_state project_zip  originating_lender_city  \\\n",
              "0    2021-02-20  ...            GA  31408-9586                  CHICAGO   \n",
              "1    2021-01-31  ...            GA  30518-9101                 COLUMBUS   \n",
              "2    2021-03-12  ...            GA       30909             PHOENIXVILLE   \n",
              "3    2021-02-02  ...            GA  30458-3417                 COLUMBUS   \n",
              "4    2020-04-10  ...            GA  31510-4326                     ALMA   \n",
              "\n",
              "   originating_lender_state loan_status_date originating_lender_location_id  \\\n",
              "0                        IL              NaN                       116998.0   \n",
              "1                        GA              NaN                        19248.0   \n",
              "2                        PA              NaN                       121536.0   \n",
              "3                        GA              NaN                        19248.0   \n",
              "4                        GA       2021-01-08                        17811.0   \n",
              "\n",
              "   lmi_indicator  forgiveness_amount  forgiveness_date  isRemoved  \n",
              "0              N                 NaN               NaN          0  \n",
              "1              Y                 NaN               NaN          0  \n",
              "2              N                 NaN               NaN          0  \n",
              "3              N                 NaN               NaN          0  \n",
              "4              N           475877.59        2020-12-15          0  \n",
              "\n",
              "[5 rows x 42 columns]"
            ]
          },
          "metadata": {},
          "execution_count": 7
        }
      ]
    },
    {
      "cell_type": "code",
      "source": [
        "df.dtypes"
      ],
      "metadata": {
        "colab": {
          "base_uri": "https://localhost:8080/"
        },
        "id": "_QDfhRika1ZY",
        "outputId": "b9bdee37-9cd5-43c6-aeb4-3e027daee3f4"
      },
      "execution_count": 8,
      "outputs": [
        {
          "output_type": "execute_result",
          "data": {
            "text/plain": [
              "name                               object\n",
              "amount                            float64\n",
              "state                              object\n",
              "address                            object\n",
              "city                               object\n",
              "zip                                object\n",
              "naics_code                        float64\n",
              "business_type                      object\n",
              "jobs_retained                     float64\n",
              "date_approved                      object\n",
              "lender                             object\n",
              "congressional_district             object\n",
              "loan_number                       float64\n",
              "sba_office_code                   float64\n",
              "processing_method                  object\n",
              "loan_status                        object\n",
              "term                              float64\n",
              "sba_guaranty_percentage           float64\n",
              "initial_approval_amount           float64\n",
              "current_approval_amount           float64\n",
              "undisbursed_amount                float64\n",
              "servicing_lender_location_id      float64\n",
              "servicing_lender_name              object\n",
              "servicing_lender_address           object\n",
              "servicing_lender_city              object\n",
              "servicing_lender_state             object\n",
              "servicing_lender_zip               object\n",
              "rural_urban_indicator              object\n",
              "hubzone_indicator                  object\n",
              "business_age_description           object\n",
              "project_city                       object\n",
              "project_county_name                object\n",
              "project_state                      object\n",
              "project_zip                        object\n",
              "originating_lender_city            object\n",
              "originating_lender_state           object\n",
              "loan_status_date                   object\n",
              "originating_lender_location_id    float64\n",
              "lmi_indicator                      object\n",
              "forgiveness_amount                float64\n",
              "forgiveness_date                   object\n",
              "isRemoved                           int64\n",
              "dtype: object"
            ]
          },
          "metadata": {},
          "execution_count": 8
        }
      ]
    },
    {
      "cell_type": "code",
      "source": [
        "#To see which industry the company in via naics_code\n",
        "Sector = []\n",
        "for i in df['naics_code']:\n",
        "  if i == np.NaN:\n",
        "    Sector.append(np.NAN)\n",
        "  else:\n",
        "    Sector.append(str(i)[0:2])\n",
        "df['Sector'] = Sector"
      ],
      "metadata": {
        "id": "TKjlER_RLp-c"
      },
      "execution_count": 9,
      "outputs": []
    },
    {
      "cell_type": "code",
      "source": [
        "naics_code = pd.read_csv('/content/NAIC Code Structure - Sheet1.csv')\n",
        "naics_code"
      ],
      "metadata": {
        "colab": {
          "base_uri": "https://localhost:8080/",
          "height": 669
        },
        "id": "WYKsbWXuTZCz",
        "outputId": "ff9dbfba-6633-4683-97aa-428d0e0a37dd"
      },
      "execution_count": 10,
      "outputs": [
        {
          "output_type": "execute_result",
          "data": {
            "text/html": [
              "\n",
              "  <div id=\"df-c3fcfe10-83c3-47ce-a4bd-d6fe9b8b79f2\">\n",
              "    <div class=\"colab-df-container\">\n",
              "      <div>\n",
              "<style scoped>\n",
              "    .dataframe tbody tr th:only-of-type {\n",
              "        vertical-align: middle;\n",
              "    }\n",
              "\n",
              "    .dataframe tbody tr th {\n",
              "        vertical-align: top;\n",
              "    }\n",
              "\n",
              "    .dataframe thead th {\n",
              "        text-align: right;\n",
              "    }\n",
              "</style>\n",
              "<table border=\"1\" class=\"dataframe\">\n",
              "  <thead>\n",
              "    <tr style=\"text-align: right;\">\n",
              "      <th></th>\n",
              "      <th>Sector</th>\n",
              "      <th>Definition</th>\n",
              "    </tr>\n",
              "  </thead>\n",
              "  <tbody>\n",
              "    <tr>\n",
              "      <th>0</th>\n",
              "      <td>11</td>\n",
              "      <td>Agriculture, Forestry, Fishing and Hunting</td>\n",
              "    </tr>\n",
              "    <tr>\n",
              "      <th>1</th>\n",
              "      <td>21</td>\n",
              "      <td>Mining, Quarrying, and Oil and Gas Extraction</td>\n",
              "    </tr>\n",
              "    <tr>\n",
              "      <th>2</th>\n",
              "      <td>22</td>\n",
              "      <td>Utilities</td>\n",
              "    </tr>\n",
              "    <tr>\n",
              "      <th>3</th>\n",
              "      <td>23</td>\n",
              "      <td>Construction</td>\n",
              "    </tr>\n",
              "    <tr>\n",
              "      <th>4</th>\n",
              "      <td>31-33</td>\n",
              "      <td>Manufacturing</td>\n",
              "    </tr>\n",
              "    <tr>\n",
              "      <th>5</th>\n",
              "      <td>42</td>\n",
              "      <td>Wholesale Trade</td>\n",
              "    </tr>\n",
              "    <tr>\n",
              "      <th>6</th>\n",
              "      <td>44-45</td>\n",
              "      <td>Retail Trade</td>\n",
              "    </tr>\n",
              "    <tr>\n",
              "      <th>7</th>\n",
              "      <td>48-49</td>\n",
              "      <td>Transportation and Warehousing</td>\n",
              "    </tr>\n",
              "    <tr>\n",
              "      <th>8</th>\n",
              "      <td>51</td>\n",
              "      <td>Information</td>\n",
              "    </tr>\n",
              "    <tr>\n",
              "      <th>9</th>\n",
              "      <td>52</td>\n",
              "      <td>Finance and Insurance</td>\n",
              "    </tr>\n",
              "    <tr>\n",
              "      <th>10</th>\n",
              "      <td>53</td>\n",
              "      <td>Real Estate and Rental and Leasing</td>\n",
              "    </tr>\n",
              "    <tr>\n",
              "      <th>11</th>\n",
              "      <td>54</td>\n",
              "      <td>Professional, Scientific, and Technical Services</td>\n",
              "    </tr>\n",
              "    <tr>\n",
              "      <th>12</th>\n",
              "      <td>55</td>\n",
              "      <td>Management of Companies and Enterprises</td>\n",
              "    </tr>\n",
              "    <tr>\n",
              "      <th>13</th>\n",
              "      <td>56</td>\n",
              "      <td>Administrative and Support and Waste Managemen...</td>\n",
              "    </tr>\n",
              "    <tr>\n",
              "      <th>14</th>\n",
              "      <td>61</td>\n",
              "      <td>Educational Services</td>\n",
              "    </tr>\n",
              "    <tr>\n",
              "      <th>15</th>\n",
              "      <td>62</td>\n",
              "      <td>Health Care and Social Assistance</td>\n",
              "    </tr>\n",
              "    <tr>\n",
              "      <th>16</th>\n",
              "      <td>71</td>\n",
              "      <td>Arts, Entertainment, and Recreation</td>\n",
              "    </tr>\n",
              "    <tr>\n",
              "      <th>17</th>\n",
              "      <td>72</td>\n",
              "      <td>Accommodation and Food Services</td>\n",
              "    </tr>\n",
              "    <tr>\n",
              "      <th>18</th>\n",
              "      <td>81</td>\n",
              "      <td>Other Services (except Public Administration)</td>\n",
              "    </tr>\n",
              "    <tr>\n",
              "      <th>19</th>\n",
              "      <td>92</td>\n",
              "      <td>Public Administration</td>\n",
              "    </tr>\n",
              "  </tbody>\n",
              "</table>\n",
              "</div>\n",
              "      <button class=\"colab-df-convert\" onclick=\"convertToInteractive('df-c3fcfe10-83c3-47ce-a4bd-d6fe9b8b79f2')\"\n",
              "              title=\"Convert this dataframe to an interactive table.\"\n",
              "              style=\"display:none;\">\n",
              "        \n",
              "  <svg xmlns=\"http://www.w3.org/2000/svg\" height=\"24px\"viewBox=\"0 0 24 24\"\n",
              "       width=\"24px\">\n",
              "    <path d=\"M0 0h24v24H0V0z\" fill=\"none\"/>\n",
              "    <path d=\"M18.56 5.44l.94 2.06.94-2.06 2.06-.94-2.06-.94-.94-2.06-.94 2.06-2.06.94zm-11 1L8.5 8.5l.94-2.06 2.06-.94-2.06-.94L8.5 2.5l-.94 2.06-2.06.94zm10 10l.94 2.06.94-2.06 2.06-.94-2.06-.94-.94-2.06-.94 2.06-2.06.94z\"/><path d=\"M17.41 7.96l-1.37-1.37c-.4-.4-.92-.59-1.43-.59-.52 0-1.04.2-1.43.59L10.3 9.45l-7.72 7.72c-.78.78-.78 2.05 0 2.83L4 21.41c.39.39.9.59 1.41.59.51 0 1.02-.2 1.41-.59l7.78-7.78 2.81-2.81c.8-.78.8-2.07 0-2.86zM5.41 20L4 18.59l7.72-7.72 1.47 1.35L5.41 20z\"/>\n",
              "  </svg>\n",
              "      </button>\n",
              "      \n",
              "  <style>\n",
              "    .colab-df-container {\n",
              "      display:flex;\n",
              "      flex-wrap:wrap;\n",
              "      gap: 12px;\n",
              "    }\n",
              "\n",
              "    .colab-df-convert {\n",
              "      background-color: #E8F0FE;\n",
              "      border: none;\n",
              "      border-radius: 50%;\n",
              "      cursor: pointer;\n",
              "      display: none;\n",
              "      fill: #1967D2;\n",
              "      height: 32px;\n",
              "      padding: 0 0 0 0;\n",
              "      width: 32px;\n",
              "    }\n",
              "\n",
              "    .colab-df-convert:hover {\n",
              "      background-color: #E2EBFA;\n",
              "      box-shadow: 0px 1px 2px rgba(60, 64, 67, 0.3), 0px 1px 3px 1px rgba(60, 64, 67, 0.15);\n",
              "      fill: #174EA6;\n",
              "    }\n",
              "\n",
              "    [theme=dark] .colab-df-convert {\n",
              "      background-color: #3B4455;\n",
              "      fill: #D2E3FC;\n",
              "    }\n",
              "\n",
              "    [theme=dark] .colab-df-convert:hover {\n",
              "      background-color: #434B5C;\n",
              "      box-shadow: 0px 1px 3px 1px rgba(0, 0, 0, 0.15);\n",
              "      filter: drop-shadow(0px 1px 2px rgba(0, 0, 0, 0.3));\n",
              "      fill: #FFFFFF;\n",
              "    }\n",
              "  </style>\n",
              "\n",
              "      <script>\n",
              "        const buttonEl =\n",
              "          document.querySelector('#df-c3fcfe10-83c3-47ce-a4bd-d6fe9b8b79f2 button.colab-df-convert');\n",
              "        buttonEl.style.display =\n",
              "          google.colab.kernel.accessAllowed ? 'block' : 'none';\n",
              "\n",
              "        async function convertToInteractive(key) {\n",
              "          const element = document.querySelector('#df-c3fcfe10-83c3-47ce-a4bd-d6fe9b8b79f2');\n",
              "          const dataTable =\n",
              "            await google.colab.kernel.invokeFunction('convertToInteractive',\n",
              "                                                     [key], {});\n",
              "          if (!dataTable) return;\n",
              "\n",
              "          const docLinkHtml = 'Like what you see? Visit the ' +\n",
              "            '<a target=\"_blank\" href=https://colab.research.google.com/notebooks/data_table.ipynb>data table notebook</a>'\n",
              "            + ' to learn more about interactive tables.';\n",
              "          element.innerHTML = '';\n",
              "          dataTable['output_type'] = 'display_data';\n",
              "          await google.colab.output.renderOutput(dataTable, element);\n",
              "          const docLink = document.createElement('div');\n",
              "          docLink.innerHTML = docLinkHtml;\n",
              "          element.appendChild(docLink);\n",
              "        }\n",
              "      </script>\n",
              "    </div>\n",
              "  </div>\n",
              "  "
            ],
            "text/plain": [
              "   Sector                                         Definition\n",
              "0      11         Agriculture, Forestry, Fishing and Hunting\n",
              "1      21      Mining, Quarrying, and Oil and Gas Extraction\n",
              "2      22                                          Utilities\n",
              "3      23                                       Construction\n",
              "4   31-33                                      Manufacturing\n",
              "5      42                                    Wholesale Trade\n",
              "6   44-45                                       Retail Trade\n",
              "7   48-49                     Transportation and Warehousing\n",
              "8      51                                        Information\n",
              "9      52                              Finance and Insurance\n",
              "10     53                 Real Estate and Rental and Leasing\n",
              "11     54   Professional, Scientific, and Technical Services\n",
              "12     55            Management of Companies and Enterprises\n",
              "13     56  Administrative and Support and Waste Managemen...\n",
              "14     61                               Educational Services\n",
              "15     62                  Health Care and Social Assistance\n",
              "16     71                Arts, Entertainment, and Recreation\n",
              "17     72                    Accommodation and Food Services\n",
              "18     81      Other Services (except Public Administration)\n",
              "19     92                              Public Administration"
            ]
          },
          "metadata": {},
          "execution_count": 10
        }
      ]
    },
    {
      "cell_type": "code",
      "source": [
        "#rearrange the naics_code\n",
        "naics_code.loc[4,'Sector'] = '33'\n",
        "naics_code.loc[20] = ['31','Manufacturing']\n",
        "naics_code.loc[21] = ['32','Manufacturing']\n",
        "naics_code.loc[6,'Sector'] = '44'\n",
        "naics_code.loc[22] = ['45','Retail Trade']\n",
        "naics_code.loc[7,'Sector'] = '48'\n",
        "naics_code.loc[23] = ['49','Transportation and Warehousing']\n",
        "naics_code.loc[24] = [np.NaN,np.NaN]\n",
        "naics_code"
      ],
      "metadata": {
        "id": "yckeSdgJT3x-",
        "colab": {
          "base_uri": "https://localhost:8080/",
          "height": 824
        },
        "outputId": "3c39e35f-1acc-45ae-8b98-5592aabb7025"
      },
      "execution_count": 11,
      "outputs": [
        {
          "output_type": "execute_result",
          "data": {
            "text/html": [
              "\n",
              "  <div id=\"df-980b303e-addd-4d42-b349-c708697c383a\">\n",
              "    <div class=\"colab-df-container\">\n",
              "      <div>\n",
              "<style scoped>\n",
              "    .dataframe tbody tr th:only-of-type {\n",
              "        vertical-align: middle;\n",
              "    }\n",
              "\n",
              "    .dataframe tbody tr th {\n",
              "        vertical-align: top;\n",
              "    }\n",
              "\n",
              "    .dataframe thead th {\n",
              "        text-align: right;\n",
              "    }\n",
              "</style>\n",
              "<table border=\"1\" class=\"dataframe\">\n",
              "  <thead>\n",
              "    <tr style=\"text-align: right;\">\n",
              "      <th></th>\n",
              "      <th>Sector</th>\n",
              "      <th>Definition</th>\n",
              "    </tr>\n",
              "  </thead>\n",
              "  <tbody>\n",
              "    <tr>\n",
              "      <th>0</th>\n",
              "      <td>11</td>\n",
              "      <td>Agriculture, Forestry, Fishing and Hunting</td>\n",
              "    </tr>\n",
              "    <tr>\n",
              "      <th>1</th>\n",
              "      <td>21</td>\n",
              "      <td>Mining, Quarrying, and Oil and Gas Extraction</td>\n",
              "    </tr>\n",
              "    <tr>\n",
              "      <th>2</th>\n",
              "      <td>22</td>\n",
              "      <td>Utilities</td>\n",
              "    </tr>\n",
              "    <tr>\n",
              "      <th>3</th>\n",
              "      <td>23</td>\n",
              "      <td>Construction</td>\n",
              "    </tr>\n",
              "    <tr>\n",
              "      <th>4</th>\n",
              "      <td>33</td>\n",
              "      <td>Manufacturing</td>\n",
              "    </tr>\n",
              "    <tr>\n",
              "      <th>5</th>\n",
              "      <td>42</td>\n",
              "      <td>Wholesale Trade</td>\n",
              "    </tr>\n",
              "    <tr>\n",
              "      <th>6</th>\n",
              "      <td>44</td>\n",
              "      <td>Retail Trade</td>\n",
              "    </tr>\n",
              "    <tr>\n",
              "      <th>7</th>\n",
              "      <td>48</td>\n",
              "      <td>Transportation and Warehousing</td>\n",
              "    </tr>\n",
              "    <tr>\n",
              "      <th>8</th>\n",
              "      <td>51</td>\n",
              "      <td>Information</td>\n",
              "    </tr>\n",
              "    <tr>\n",
              "      <th>9</th>\n",
              "      <td>52</td>\n",
              "      <td>Finance and Insurance</td>\n",
              "    </tr>\n",
              "    <tr>\n",
              "      <th>10</th>\n",
              "      <td>53</td>\n",
              "      <td>Real Estate and Rental and Leasing</td>\n",
              "    </tr>\n",
              "    <tr>\n",
              "      <th>11</th>\n",
              "      <td>54</td>\n",
              "      <td>Professional, Scientific, and Technical Services</td>\n",
              "    </tr>\n",
              "    <tr>\n",
              "      <th>12</th>\n",
              "      <td>55</td>\n",
              "      <td>Management of Companies and Enterprises</td>\n",
              "    </tr>\n",
              "    <tr>\n",
              "      <th>13</th>\n",
              "      <td>56</td>\n",
              "      <td>Administrative and Support and Waste Managemen...</td>\n",
              "    </tr>\n",
              "    <tr>\n",
              "      <th>14</th>\n",
              "      <td>61</td>\n",
              "      <td>Educational Services</td>\n",
              "    </tr>\n",
              "    <tr>\n",
              "      <th>15</th>\n",
              "      <td>62</td>\n",
              "      <td>Health Care and Social Assistance</td>\n",
              "    </tr>\n",
              "    <tr>\n",
              "      <th>16</th>\n",
              "      <td>71</td>\n",
              "      <td>Arts, Entertainment, and Recreation</td>\n",
              "    </tr>\n",
              "    <tr>\n",
              "      <th>17</th>\n",
              "      <td>72</td>\n",
              "      <td>Accommodation and Food Services</td>\n",
              "    </tr>\n",
              "    <tr>\n",
              "      <th>18</th>\n",
              "      <td>81</td>\n",
              "      <td>Other Services (except Public Administration)</td>\n",
              "    </tr>\n",
              "    <tr>\n",
              "      <th>19</th>\n",
              "      <td>92</td>\n",
              "      <td>Public Administration</td>\n",
              "    </tr>\n",
              "    <tr>\n",
              "      <th>20</th>\n",
              "      <td>31</td>\n",
              "      <td>Manufacturing</td>\n",
              "    </tr>\n",
              "    <tr>\n",
              "      <th>21</th>\n",
              "      <td>32</td>\n",
              "      <td>Manufacturing</td>\n",
              "    </tr>\n",
              "    <tr>\n",
              "      <th>22</th>\n",
              "      <td>45</td>\n",
              "      <td>Retail Trade</td>\n",
              "    </tr>\n",
              "    <tr>\n",
              "      <th>23</th>\n",
              "      <td>49</td>\n",
              "      <td>Transportation and Warehousing</td>\n",
              "    </tr>\n",
              "    <tr>\n",
              "      <th>24</th>\n",
              "      <td>NaN</td>\n",
              "      <td>NaN</td>\n",
              "    </tr>\n",
              "  </tbody>\n",
              "</table>\n",
              "</div>\n",
              "      <button class=\"colab-df-convert\" onclick=\"convertToInteractive('df-980b303e-addd-4d42-b349-c708697c383a')\"\n",
              "              title=\"Convert this dataframe to an interactive table.\"\n",
              "              style=\"display:none;\">\n",
              "        \n",
              "  <svg xmlns=\"http://www.w3.org/2000/svg\" height=\"24px\"viewBox=\"0 0 24 24\"\n",
              "       width=\"24px\">\n",
              "    <path d=\"M0 0h24v24H0V0z\" fill=\"none\"/>\n",
              "    <path d=\"M18.56 5.44l.94 2.06.94-2.06 2.06-.94-2.06-.94-.94-2.06-.94 2.06-2.06.94zm-11 1L8.5 8.5l.94-2.06 2.06-.94-2.06-.94L8.5 2.5l-.94 2.06-2.06.94zm10 10l.94 2.06.94-2.06 2.06-.94-2.06-.94-.94-2.06-.94 2.06-2.06.94z\"/><path d=\"M17.41 7.96l-1.37-1.37c-.4-.4-.92-.59-1.43-.59-.52 0-1.04.2-1.43.59L10.3 9.45l-7.72 7.72c-.78.78-.78 2.05 0 2.83L4 21.41c.39.39.9.59 1.41.59.51 0 1.02-.2 1.41-.59l7.78-7.78 2.81-2.81c.8-.78.8-2.07 0-2.86zM5.41 20L4 18.59l7.72-7.72 1.47 1.35L5.41 20z\"/>\n",
              "  </svg>\n",
              "      </button>\n",
              "      \n",
              "  <style>\n",
              "    .colab-df-container {\n",
              "      display:flex;\n",
              "      flex-wrap:wrap;\n",
              "      gap: 12px;\n",
              "    }\n",
              "\n",
              "    .colab-df-convert {\n",
              "      background-color: #E8F0FE;\n",
              "      border: none;\n",
              "      border-radius: 50%;\n",
              "      cursor: pointer;\n",
              "      display: none;\n",
              "      fill: #1967D2;\n",
              "      height: 32px;\n",
              "      padding: 0 0 0 0;\n",
              "      width: 32px;\n",
              "    }\n",
              "\n",
              "    .colab-df-convert:hover {\n",
              "      background-color: #E2EBFA;\n",
              "      box-shadow: 0px 1px 2px rgba(60, 64, 67, 0.3), 0px 1px 3px 1px rgba(60, 64, 67, 0.15);\n",
              "      fill: #174EA6;\n",
              "    }\n",
              "\n",
              "    [theme=dark] .colab-df-convert {\n",
              "      background-color: #3B4455;\n",
              "      fill: #D2E3FC;\n",
              "    }\n",
              "\n",
              "    [theme=dark] .colab-df-convert:hover {\n",
              "      background-color: #434B5C;\n",
              "      box-shadow: 0px 1px 3px 1px rgba(0, 0, 0, 0.15);\n",
              "      filter: drop-shadow(0px 1px 2px rgba(0, 0, 0, 0.3));\n",
              "      fill: #FFFFFF;\n",
              "    }\n",
              "  </style>\n",
              "\n",
              "      <script>\n",
              "        const buttonEl =\n",
              "          document.querySelector('#df-980b303e-addd-4d42-b349-c708697c383a button.colab-df-convert');\n",
              "        buttonEl.style.display =\n",
              "          google.colab.kernel.accessAllowed ? 'block' : 'none';\n",
              "\n",
              "        async function convertToInteractive(key) {\n",
              "          const element = document.querySelector('#df-980b303e-addd-4d42-b349-c708697c383a');\n",
              "          const dataTable =\n",
              "            await google.colab.kernel.invokeFunction('convertToInteractive',\n",
              "                                                     [key], {});\n",
              "          if (!dataTable) return;\n",
              "\n",
              "          const docLinkHtml = 'Like what you see? Visit the ' +\n",
              "            '<a target=\"_blank\" href=https://colab.research.google.com/notebooks/data_table.ipynb>data table notebook</a>'\n",
              "            + ' to learn more about interactive tables.';\n",
              "          element.innerHTML = '';\n",
              "          dataTable['output_type'] = 'display_data';\n",
              "          await google.colab.output.renderOutput(dataTable, element);\n",
              "          const docLink = document.createElement('div');\n",
              "          docLink.innerHTML = docLinkHtml;\n",
              "          element.appendChild(docLink);\n",
              "        }\n",
              "      </script>\n",
              "    </div>\n",
              "  </div>\n",
              "  "
            ],
            "text/plain": [
              "   Sector                                         Definition\n",
              "0      11         Agriculture, Forestry, Fishing and Hunting\n",
              "1      21      Mining, Quarrying, and Oil and Gas Extraction\n",
              "2      22                                          Utilities\n",
              "3      23                                       Construction\n",
              "4      33                                      Manufacturing\n",
              "5      42                                    Wholesale Trade\n",
              "6      44                                       Retail Trade\n",
              "7      48                     Transportation and Warehousing\n",
              "8      51                                        Information\n",
              "9      52                              Finance and Insurance\n",
              "10     53                 Real Estate and Rental and Leasing\n",
              "11     54   Professional, Scientific, and Technical Services\n",
              "12     55            Management of Companies and Enterprises\n",
              "13     56  Administrative and Support and Waste Managemen...\n",
              "14     61                               Educational Services\n",
              "15     62                  Health Care and Social Assistance\n",
              "16     71                Arts, Entertainment, and Recreation\n",
              "17     72                    Accommodation and Food Services\n",
              "18     81      Other Services (except Public Administration)\n",
              "19     92                              Public Administration\n",
              "20     31                                      Manufacturing\n",
              "21     32                                      Manufacturing\n",
              "22     45                                       Retail Trade\n",
              "23     49                     Transportation and Warehousing\n",
              "24    NaN                                                NaN"
            ]
          },
          "metadata": {},
          "execution_count": 11
        }
      ]
    },
    {
      "cell_type": "code",
      "source": [
        "#creat a new dataframe: match the naics_code with the industry\n",
        "dfe = pd.merge(df,naics_code,on='Sector',how='left')"
      ],
      "metadata": {
        "id": "0AHwyhmRLNYQ"
      },
      "execution_count": 12,
      "outputs": []
    },
    {
      "cell_type": "code",
      "source": [
        "#From congressional_district to see the\tpolitic attribute and add this information to dfe\n",
        "congressional = pd.read_csv('/content/congressional.csv')\n",
        "dfe = pd.merge(dfe,congressional,on='congressional_district',how='left')"
      ],
      "metadata": {
        "id": "xot3Jr3XOOpE"
      },
      "execution_count": 13,
      "outputs": []
    },
    {
      "cell_type": "markdown",
      "source": [
        "# Descriptive Analysis"
      ],
      "metadata": {
        "id": "MohuLW6cbf7T"
      }
    },
    {
      "cell_type": "code",
      "source": [
        "import seaborn as sns\n",
        "import matplotlib.pyplot as plt"
      ],
      "metadata": {
        "id": "SwKZpNEWbnHr"
      },
      "execution_count": 14,
      "outputs": []
    },
    {
      "cell_type": "code",
      "source": [
        "dfe['undisbursed_amount'].groupby(dfe['isRemoved']).mean()"
      ],
      "metadata": {
        "colab": {
          "base_uri": "https://localhost:8080/"
        },
        "id": "pVzzRr9qkMPi",
        "outputId": "67ca5d69-2517-40c0-c54f-093447c009f2"
      },
      "execution_count": 15,
      "outputs": [
        {
          "output_type": "execute_result",
          "data": {
            "text/plain": [
              "isRemoved\n",
              "0       11.868519\n",
              "1    18264.077147\n",
              "Name: undisbursed_amount, dtype: float64"
            ]
          },
          "metadata": {},
          "execution_count": 15
        }
      ]
    },
    {
      "cell_type": "code",
      "source": [
        "sns.boxplot(x=dfe['isRemoved'],y=dfe['undisbursed_amount'])"
      ],
      "metadata": {
        "colab": {
          "base_uri": "https://localhost:8080/",
          "height": 307
        },
        "id": "-UhstZRab33O",
        "outputId": "63d62868-7f9b-4e7e-c475-838bcbdfd5d2"
      },
      "execution_count": 16,
      "outputs": [
        {
          "output_type": "execute_result",
          "data": {
            "text/plain": [
              "<matplotlib.axes._subplots.AxesSubplot at 0x7f6d75df1e50>"
            ]
          },
          "metadata": {},
          "execution_count": 16
        },
        {
          "output_type": "display_data",
          "data": {
            "image/png": "[encoded data removed]",
            "text/plain": [
              "<Figure size 432x288 with 1 Axes>"
            ]
          },
          "metadata": {
            "needs_background": "light"
          }
        }
      ]
    },
    {
      "cell_type": "code",
      "source": [
        "dfe['undisbursed_amount'].groupby(dfe['isRemoved']).std()"
      ],
      "metadata": {
        "colab": {
          "base_uri": "https://localhost:8080/"
        },
        "id": "vA38YVwCicpl",
        "outputId": "1fb46a2e-aaee-460f-90eb-93549f822d7d"
      },
      "execution_count": 17,
      "outputs": [
        {
          "output_type": "execute_result",
          "data": {
            "text/plain": [
              "isRemoved\n",
              "0      603.065725\n",
              "1    68459.394784\n",
              "Name: undisbursed_amount, dtype: float64"
            ]
          },
          "metadata": {},
          "execution_count": 17
        }
      ]
    },
    {
      "cell_type": "code",
      "source": [
        "dfe['loan_status'].value_counts().plot.barh()"
      ],
      "metadata": {
        "colab": {
          "base_uri": "https://localhost:8080/",
          "height": 282
        },
        "id": "6rnrK8dOgNaO",
        "outputId": "a5ebf91b-6e28-4735-e9f3-1f3c9579e428"
      },
      "execution_count": 18,
      "outputs": [
        {
          "output_type": "execute_result",
          "data": {
            "text/plain": [
              "<matplotlib.axes._subplots.AxesSubplot at 0x7f6d5c29f8d0>"
            ]
          },
          "metadata": {},
          "execution_count": 18
        },
        {
          "output_type": "display_data",
          "data": {
            "image/png": "[encoded data removed]",
            "text/plain": [
              "<Figure size 432x288 with 1 Axes>"
            ]
          },
          "metadata": {
            "needs_background": "light"
          }
        }
      ]
    },
    {
      "cell_type": "code",
      "source": [
        "dfe['jobs_retained'].groupby(dfe['isRemoved']).mean()"
      ],
      "metadata": {
        "colab": {
          "base_uri": "https://localhost:8080/"
        },
        "id": "eNA8Bw2Q_lSv",
        "outputId": "d12e3e75-1d71-4955-85e1-917e5e40f12d"
      },
      "execution_count": 19,
      "outputs": [
        {
          "output_type": "execute_result",
          "data": {
            "text/plain": [
              "isRemoved\n",
              "0    4.929097\n",
              "1    1.280423\n",
              "Name: jobs_retained, dtype: float64"
            ]
          },
          "metadata": {},
          "execution_count": 19
        }
      ]
    },
    {
      "cell_type": "code",
      "source": [
        "dfe['jobs_retained'].groupby(dfe['isRemoved']).std()"
      ],
      "metadata": {
        "colab": {
          "base_uri": "https://localhost:8080/"
        },
        "id": "1L6s6lHyaD7x",
        "outputId": "bf23b122-9bad-409c-e186-c2d99680e1f8"
      },
      "execution_count": 20,
      "outputs": [
        {
          "output_type": "execute_result",
          "data": {
            "text/plain": [
              "isRemoved\n",
              "0    18.447953\n",
              "1     3.954098\n",
              "Name: jobs_retained, dtype: float64"
            ]
          },
          "metadata": {},
          "execution_count": 20
        }
      ]
    },
    {
      "cell_type": "code",
      "source": [
        "dfe[dfe['isRemoved']==0].jobs_retained.value_counts()[:40]"
      ],
      "metadata": {
        "colab": {
          "base_uri": "https://localhost:8080/"
        },
        "id": "LV2SadjkaXsn",
        "outputId": "dd669016-2925-429d-a55f-21edfd08f554"
      },
      "execution_count": 21,
      "outputs": [
        {
          "output_type": "execute_result",
          "data": {
            "text/plain": [
              "1.0     389415\n",
              "2.0      28188\n",
              "3.0      19549\n",
              "4.0      15755\n",
              "5.0      13282\n",
              "6.0      10499\n",
              "7.0       8327\n",
              "8.0       7438\n",
              "10.0      6351\n",
              "9.0       5631\n",
              "12.0      3972\n",
              "11.0      3894\n",
              "15.0      2922\n",
              "13.0      2807\n",
              "14.0      2615\n",
              "16.0      2042\n",
              "20.0      1944\n",
              "17.0      1801\n",
              "18.0      1735\n",
              "19.0      1287\n",
              "25.0      1225\n",
              "21.0      1159\n",
              "22.0      1095\n",
              "23.0      1053\n",
              "24.0       989\n",
              "30.0       950\n",
              "26.0       778\n",
              "28.0       699\n",
              "27.0       678\n",
              "35.0       634\n",
              "32.0       605\n",
              "29.0       592\n",
              "40.0       545\n",
              "Name: jobs_retained, dtype: int64"
            ]
          },
          "metadata": {},
          "execution_count": 21
        }
      ]
    },
    {
      "cell_type": "code",
      "source": [
        "dfe[dfe['isRemoved']==1].jobs_retained.value_counts()"
      ],
      "metadata": {
        "colab": {
          "base_uri": "https://localhost:8080/"
        },
        "id": "_1sazb4na2Vp",
        "outputId": "cb1779c8-3ed2-4096-c91b-ef4e143bf8cd"
      },
      "execution_count": 22,
      "outputs": [
        {
          "output_type": "execute_result",
          "data": {
            "text/plain": [
              "1.0      24836\n",
              "2.0        197\n",
              "3.0        136\n",
              "5.0        106\n",
              "4.0        101\n",
              "6.0         88\n",
              "10.0        60\n",
              "7.0         59\n",
              "8.0         50\n",
              "9.0         31\n",
              "11.0        25\n",
              "12.0        21\n",
              "15.0        17\n",
              "16.0        12\n",
              "20.0        10\n",
              "17.0         8\n",
              "14.0         8\n",
              "18.0         7\n",
              "23.0         6\n",
              "19.0         6\n",
              "13.0         6\n",
              "27.0         5\n",
              "35.0         4\n",
              "25.0         4\n",
              "30.0         3\n",
              "32.0         3\n",
              "29.0         2\n",
              "22.0         2\n",
              "78.0         2\n",
              "39.0         2\n",
              "34.0         2\n",
              "50.0         1\n",
              "68.0         1\n",
              "495.0        1\n",
              "31.0         1\n",
              "47.0         1\n",
              "52.0         1\n",
              "21.0         1\n",
              "100.0        1\n",
              "28.0         1\n",
              "36.0         1\n",
              "60.0         1\n",
              "26.0         1\n",
              "45.0         1\n",
              "55.0         1\n",
              "201.0        1\n",
              "98.0         1\n",
              "33.0         1\n",
              "Name: jobs_retained, dtype: int64"
            ]
          },
          "metadata": {},
          "execution_count": 22
        }
      ]
    },
    {
      "cell_type": "code",
      "source": [
        "dfe[dfe['isRemoved']==0].business_type.value_counts()[:5].plot(kind=\"barh\")"
      ],
      "metadata": {
        "colab": {
          "base_uri": "https://localhost:8080/",
          "height": 282
        },
        "id": "2qUCF-k0nIis",
        "outputId": "c25f7c17-e24c-41d3-a8b4-c215c8dd4524"
      },
      "execution_count": 23,
      "outputs": [
        {
          "output_type": "execute_result",
          "data": {
            "text/plain": [
              "<matplotlib.axes._subplots.AxesSubplot at 0x7f6d5d639810>"
            ]
          },
          "metadata": {},
          "execution_count": 23
        },
        {
          "output_type": "display_data",
          "data": {
            "image/png": "[encoded data removed]",
            "text/plain": [
              "<Figure size 432x288 with 1 Axes>"
            ]
          },
          "metadata": {
            "needs_background": "light"
          }
        }
      ]
    },
    {
      "cell_type": "code",
      "source": [
        "dfe[dfe['isRemoved']==1].business_type.value_counts()[:5].plot(kind=\"barh\")"
      ],
      "metadata": {
        "colab": {
          "base_uri": "https://localhost:8080/",
          "height": 282
        },
        "id": "Z7slB1YFnPXs",
        "outputId": "f56d14b5-500d-469f-b427-844c44385aaa"
      },
      "execution_count": 24,
      "outputs": [
        {
          "output_type": "execute_result",
          "data": {
            "text/plain": [
              "<matplotlib.axes._subplots.AxesSubplot at 0x7f6d5c183ed0>"
            ]
          },
          "metadata": {},
          "execution_count": 24
        },
        {
          "output_type": "display_data",
          "data": {
            "image/png": "[encoded data removed]",
            "text/plain": [
              "<Figure size 432x288 with 1 Axes>"
            ]
          },
          "metadata": {
            "needs_background": "light"
          }
        }
      ]
    },
    {
      "cell_type": "code",
      "source": [
        "dfe[dfe['isRemoved']==0].Definition.value_counts()[:10].plot.barh()"
      ],
      "metadata": {
        "colab": {
          "base_uri": "https://localhost:8080/",
          "height": 282
        },
        "id": "PuLI4S4ROSFn",
        "outputId": "40ac7189-72b0-4fe8-903c-b1db832d04ef"
      },
      "execution_count": 25,
      "outputs": [
        {
          "output_type": "execute_result",
          "data": {
            "text/plain": [
              "<matplotlib.axes._subplots.AxesSubplot at 0x7f6d5c163890>"
            ]
          },
          "metadata": {},
          "execution_count": 25
        },
        {
          "output_type": "display_data",
          "data": {
            "image/png": "[encoded data removed]",
            "text/plain": [
              "<Figure size 432x288 with 1 Axes>"
            ]
          },
          "metadata": {
            "needs_background": "light"
          }
        }
      ]
    },
    {
      "cell_type": "code",
      "source": [
        "dfe[dfe['isRemoved']==1].Definition.value_counts()[:10].plot.barh()"
      ],
      "metadata": {
        "colab": {
          "base_uri": "https://localhost:8080/",
          "height": 282
        },
        "id": "-qCH-7shSRrQ",
        "outputId": "20840e09-f84d-4a17-83a0-94a210411988"
      },
      "execution_count": 26,
      "outputs": [
        {
          "output_type": "execute_result",
          "data": {
            "text/plain": [
              "<matplotlib.axes._subplots.AxesSubplot at 0x7f6d5c0ddad0>"
            ]
          },
          "metadata": {},
          "execution_count": 26
        },
        {
          "output_type": "display_data",
          "data": {
            "image/png": "[encoded data removed]",
            "text/plain": [
              "<Figure size 432x288 with 1 Axes>"
            ]
          },
          "metadata": {
            "needs_background": "light"
          }
        }
      ]
    },
    {
      "cell_type": "code",
      "source": [
        "dfe[dfe['isRemoved']==0].servicing_lender_state.value_counts()[:10].plot.bar()"
      ],
      "metadata": {
        "colab": {
          "base_uri": "https://localhost:8080/",
          "height": 287
        },
        "id": "OXfbVmqidQzk",
        "outputId": "cb124927-619d-4caf-c090-4052262887a5"
      },
      "execution_count": 27,
      "outputs": [
        {
          "output_type": "execute_result",
          "data": {
            "text/plain": [
              "<matplotlib.axes._subplots.AxesSubplot at 0x7f6d5c051310>"
            ]
          },
          "metadata": {},
          "execution_count": 27
        },
        {
          "output_type": "display_data",
          "data": {
            "image/png": "[encoded data removed]",
            "text/plain": [
              "<Figure size 432x288 with 1 Axes>"
            ]
          },
          "metadata": {
            "needs_background": "light"
          }
        }
      ]
    },
    {
      "cell_type": "code",
      "source": [
        "dfe[dfe['isRemoved']==1].servicing_lender_state.value_counts()[:10].plot.bar()"
      ],
      "metadata": {
        "colab": {
          "base_uri": "https://localhost:8080/",
          "height": 290
        },
        "id": "HiVQeCLvdT74",
        "outputId": "714028ed-5ae0-48d7-92f7-f490c9d89692"
      },
      "execution_count": 28,
      "outputs": [
        {
          "output_type": "execute_result",
          "data": {
            "text/plain": [
              "<matplotlib.axes._subplots.AxesSubplot at 0x7f6d5c174990>"
            ]
          },
          "metadata": {},
          "execution_count": 28
        },
        {
          "output_type": "display_data",
          "data": {
            "image/png": "[encoded data removed]",
            "text/plain": [
              "<Figure size 432x288 with 1 Axes>"
            ]
          },
          "metadata": {
            "needs_background": "light"
          }
        }
      ]
    },
    {
      "cell_type": "code",
      "source": [
        "dfe[dfe['isRemoved']==0].processing_method.value_counts().plot.pie()"
      ],
      "metadata": {
        "colab": {
          "base_uri": "https://localhost:8080/",
          "height": 265
        },
        "id": "vIgN2zvVQ_Hg",
        "outputId": "b1017d4e-2a6c-4024-9abd-58c7356101ac"
      },
      "execution_count": 29,
      "outputs": [
        {
          "output_type": "execute_result",
          "data": {
            "text/plain": [
              "<matplotlib.axes._subplots.AxesSubplot at 0x7f6d5bf9e210>"
            ]
          },
          "metadata": {},
          "execution_count": 29
        },
        {
          "output_type": "display_data",
          "data": {
            "image/png": "[encoded data removed]",
            "text/plain": [
              "<Figure size 432x288 with 1 Axes>"
            ]
          },
          "metadata": {}
        }
      ]
    },
    {
      "cell_type": "code",
      "source": [
        "dfe[dfe['isRemoved']==1].processing_method.value_counts().plot.pie()"
      ],
      "metadata": {
        "colab": {
          "base_uri": "https://localhost:8080/",
          "height": 265
        },
        "id": "A4kEfuBgRQrs",
        "outputId": "35fb3e62-1321-4cec-cb9c-dc764d30071a"
      },
      "execution_count": 30,
      "outputs": [
        {
          "output_type": "execute_result",
          "data": {
            "text/plain": [
              "<matplotlib.axes._subplots.AxesSubplot at 0x7f6d5bf59c50>"
            ]
          },
          "metadata": {},
          "execution_count": 30
        },
        {
          "output_type": "display_data",
          "data": {
            "image/png": "[encoded data removed]",
            "text/plain": [
              "<Figure size 432x288 with 1 Axes>"
            ]
          },
          "metadata": {}
        }
      ]
    },
    {
      "cell_type": "code",
      "source": [
        "isTandW = []\n",
        "for ind in dfe['Definition']:\n",
        "  if ind == 'Transportation and Warehousing':\n",
        "    isTandW.append(1)\n",
        "  else:\n",
        "    isTandW.append(0)\n",
        "\n",
        "dfe['isTandW'] = isTandW"
      ],
      "metadata": {
        "id": "HX1jJkP-myWt"
      },
      "execution_count": 31,
      "outputs": []
    },
    {
      "cell_type": "code",
      "source": [
        "isSP = []\n",
        "for i in dfe['business_type']:\n",
        "  if i == 'Sole Proprietorship':\n",
        "    isSP.append(1)\n",
        "  else:\n",
        "    isSP.append(0)\n",
        "dfe['isSP'] = isSP\n",
        "\n",
        "isIC = []\n",
        "for i in dfe['business_type']:\n",
        "  if i == 'Independent Contractors':\n",
        "    isIC.append(1)\n",
        "  else:\n",
        "    isIC.append(0)\n",
        "dfe['isIC'] = isIC\n",
        "\n",
        "isSEI = []\n",
        "for i in dfe['business_type']:\n",
        "  if i == 'Self-Employed Individuals':\n",
        "    isSEI.append(1)\n",
        "  else:\n",
        "    isSEI.append(0)\n",
        "dfe['isSEI'] = isSEI\n",
        "\n",
        "isLLC = []\n",
        "for i in dfe['business_type']:\n",
        "  if i == 'Limited  Liability Company(LLC)':\n",
        "    isLLC.append(1)\n",
        "  else:\n",
        "    isLLC.append(0)\n",
        "dfe['isLLC'] = isLLC"
      ],
      "metadata": {
        "id": "rDTa1SIcnhbk"
      },
      "execution_count": 32,
      "outputs": []
    },
    {
      "cell_type": "code",
      "source": [
        "isPPP = []\n",
        "for i in dfe['processing_method']:\n",
        "  if i == 'PPP':\n",
        "    isPPP.append(1)\n",
        "  else:\n",
        "    isPPP.append(0)\n",
        "dfe['isPPP'] = isPPP"
      ],
      "metadata": {
        "id": "qmeQFsNla4aU"
      },
      "execution_count": 33,
      "outputs": []
    },
    {
      "cell_type": "code",
      "source": [
        "dfe.groupby([\"isRemoved\"])[\"term\"].mean()\n",
        "dfe.groupby([\"isRemoved\"])[\"term\"].std()"
      ],
      "metadata": {
        "id": "oHlAE1WDVRIS",
        "colab": {
          "base_uri": "https://localhost:8080/"
        },
        "outputId": "1f5da6a9-ea99-4c67-b402-fa65a3045296"
      },
      "execution_count": 34,
      "outputs": [
        {
          "output_type": "execute_result",
          "data": {
            "text/plain": [
              "isRemoved\n",
              "0    15.527003\n",
              "1     1.962436\n",
              "Name: term, dtype: float64"
            ]
          },
          "metadata": {},
          "execution_count": 34
        }
      ]
    },
    {
      "cell_type": "code",
      "source": [
        "#df[df[\"Isremoved\"]==0].project_city.value_counts()\n",
        "uC = []\n",
        "for i in dfe['city']:\n",
        "  uC.append(str(i).upper())\n",
        "uC\n",
        "dfe['city']=uC"
      ],
      "metadata": {
        "id": "u8WKZnZZIi5I"
      },
      "execution_count": 35,
      "outputs": []
    },
    {
      "cell_type": "code",
      "source": [
        "dfe[dfe['isRemoved']==0].city.value_counts()[:5].plot.barh()"
      ],
      "metadata": {
        "colab": {
          "base_uri": "https://localhost:8080/",
          "height": 282
        },
        "id": "CjWIOYrtTWmT",
        "outputId": "2217733e-bfca-4636-918a-322709e1a8cd"
      },
      "execution_count": 36,
      "outputs": [
        {
          "output_type": "execute_result",
          "data": {
            "text/plain": [
              "<matplotlib.axes._subplots.AxesSubplot at 0x7f6d5c7397d0>"
            ]
          },
          "metadata": {},
          "execution_count": 36
        },
        {
          "output_type": "display_data",
          "data": {
            "image/png": "[encoded data removed]",
            "text/plain": [
              "<Figure size 432x288 with 1 Axes>"
            ]
          },
          "metadata": {
            "needs_background": "light"
          }
        }
      ]
    },
    {
      "cell_type": "code",
      "source": [
        "dfe[dfe['isRemoved']==1].city.value_counts()[:5].plot.barh()"
      ],
      "metadata": {
        "colab": {
          "base_uri": "https://localhost:8080/",
          "height": 282
        },
        "id": "IqTIR6KWl66i",
        "outputId": "78e55023-266e-45fb-aa73-e2b7f490a1a3"
      },
      "execution_count": 37,
      "outputs": [
        {
          "output_type": "execute_result",
          "data": {
            "text/plain": [
              "<matplotlib.axes._subplots.AxesSubplot at 0x7f6d59a8cbd0>"
            ]
          },
          "metadata": {},
          "execution_count": 37
        },
        {
          "output_type": "display_data",
          "data": {
            "image/png": "[encoded data removed]",
            "text/plain": [
              "<Figure size 432x288 with 1 Axes>"
            ]
          },
          "metadata": {
            "needs_background": "light"
          }
        }
      ]
    },
    {
      "cell_type": "code",
      "source": [
        "uC = []\n",
        "for i in dfe['city']:\n",
        "  uC.append(str(i).upper())\n",
        "uC\n",
        "dfe['city']=uC"
      ],
      "metadata": {
        "id": "btz0f2iEIuu4"
      },
      "execution_count": 38,
      "outputs": []
    },
    {
      "cell_type": "code",
      "source": [
        "k = dfe[dfe['isRemoved']==1].city.value_counts()[:10]"
      ],
      "metadata": {
        "id": "oboohYltTXGV"
      },
      "execution_count": 39,
      "outputs": []
    },
    {
      "cell_type": "code",
      "source": [
        "isAtlanta = []\n",
        "for city in dfe['city']:\n",
        "  if city == 'Atlanta':\n",
        "    isAtlanta.append(1)\n",
        "  elif city == 'ATLANTA':\n",
        "    isAtlanta.append(1)\n",
        "  else:\n",
        "    isAtlanta.append(0)\n",
        "\n",
        "dfe['isAtlanta'] = isAtlanta"
      ],
      "metadata": {
        "id": "-ENFvfEScj6u"
      },
      "execution_count": 41,
      "outputs": []
    },
    {
      "cell_type": "code",
      "source": [
        "isHabzone = []\n",
        "\n",
        "for h in dfe['hubzone_indicator']:\n",
        "  if h == 'Y':\n",
        "    isHabzone.append(1)\n",
        "  if h == 'N':\n",
        "    isHabzone.append(0)\n",
        "\n",
        "dfe['isHabzone'] = isHabzone"
      ],
      "metadata": {
        "id": "2DTmaat5Xk4L"
      },
      "execution_count": 42,
      "outputs": []
    },
    {
      "cell_type": "code",
      "source": [
        "print(dfe[dfe['isRemoved']==1].isHabzone.value_counts()/25836)\n",
        "print(dfe[dfe['isRemoved']==0].isHabzone.value_counts()/553828)"
      ],
      "metadata": {
        "colab": {
          "base_uri": "https://localhost:8080/"
        },
        "id": "Ndi6YMQBkef6",
        "outputId": "ac33ec88-3207-47ae-816d-260e3c74a045"
      },
      "execution_count": 43,
      "outputs": [
        {
          "output_type": "stream",
          "name": "stdout",
          "text": [
            "0    0.755187\n",
            "1    0.244813\n",
            "Name: isHabzone, dtype: float64\n",
            "0    0.676391\n",
            "1    0.323609\n",
            "Name: isHabzone, dtype: float64\n"
          ]
        }
      ]
    },
    {
      "cell_type": "code",
      "source": [
        "isRural = []\n",
        "\n",
        "for R in dfe['rural_urban_indicator']:\n",
        "  if R == 'R':\n",
        "    isRural.append(1)\n",
        "  if R == 'U':\n",
        "    isRural.append(0)\n",
        "\n",
        "dfe['isRural'] = isRural"
      ],
      "metadata": {
        "id": "cOnmA5d6Y9TX"
      },
      "execution_count": 44,
      "outputs": []
    },
    {
      "cell_type": "code",
      "source": [
        "print(dfe[dfe['isRemoved']==1].isRural.value_counts()/25836)\n",
        "print(dfe[dfe['isRemoved']==0].isRural.value_counts()/553828)"
      ],
      "metadata": {
        "colab": {
          "base_uri": "https://localhost:8080/"
        },
        "id": "n0SOzIyQk_Xh",
        "outputId": "9c52fd6d-3293-459e-857e-54d9e8ac6ce3"
      },
      "execution_count": 45,
      "outputs": [
        {
          "output_type": "stream",
          "name": "stdout",
          "text": [
            "0    0.792692\n",
            "1    0.207308\n",
            "Name: isRural, dtype: float64\n",
            "0    0.776028\n",
            "1    0.223972\n",
            "Name: isRural, dtype: float64\n"
          ]
        }
      ]
    },
    {
      "cell_type": "code",
      "source": [
        "isLMI = []\n",
        "\n",
        "for L in dfe['lmi_indicator']:\n",
        "  if L == 'Y':\n",
        "    isLMI.append(1)\n",
        "  if L == 'N':\n",
        "    isLMI.append(0)\n",
        "\n",
        "dfe['isLMI'] = isLMI"
      ],
      "metadata": {
        "id": "gAuFfPKuZZT8"
      },
      "execution_count": 46,
      "outputs": []
    },
    {
      "cell_type": "code",
      "source": [
        "print(dfe[dfe['isRemoved']==1].isLMI.value_counts()/25836)\n",
        "print(dfe[dfe['isRemoved']==0].isLMI.value_counts()/553828)"
      ],
      "metadata": {
        "colab": {
          "base_uri": "https://localhost:8080/"
        },
        "id": "q34ZeHkrld37",
        "outputId": "152e126b-5301-4d3c-8d44-e15487219f1e"
      },
      "execution_count": 47,
      "outputs": [
        {
          "output_type": "stream",
          "name": "stdout",
          "text": [
            "0    0.598506\n",
            "1    0.401494\n",
            "Name: isLMI, dtype: float64\n",
            "0    0.660308\n",
            "1    0.339692\n",
            "Name: isLMI, dtype: float64\n"
          ]
        }
      ]
    },
    {
      "cell_type": "code",
      "source": [
        "isDisbursed = []\n",
        "\n",
        "for D in dfe['loan_status']:\n",
        "  if D == 'Paid in Full':\n",
        "    isDisbursed.append(1)\n",
        "  elif D == 'Exemption 4':\n",
        "    isDisbursed.append(1)\n",
        "  else:\n",
        "    isDisbursed.append(0)\n",
        "\n",
        "dfe['isDisbursed'] = isDisbursed"
      ],
      "metadata": {
        "id": "XrfckqT2fC5-"
      },
      "execution_count": 48,
      "outputs": []
    },
    {
      "cell_type": "code",
      "source": [
        "BAge2 = []\n",
        "for BA in dfe['business_age_description']:\n",
        "  if BA == 'Existing or more than 2 years old':\n",
        "    BAge2.append(1)\n",
        "  else:\n",
        "    BAge2.append(0)\n",
        "\n",
        "dfe['BAge2'] = BAge2"
      ],
      "metadata": {
        "id": "ZoNtOFAOjd81"
      },
      "execution_count": 49,
      "outputs": []
    },
    {
      "cell_type": "code",
      "source": [
        " dfe.rename(columns={\"politic attribute\": \"politic_attribute\"},inplace=True)"
      ],
      "metadata": {
        "id": "TFO1s68elD2v"
      },
      "execution_count": 50,
      "outputs": []
    },
    {
      "cell_type": "code",
      "source": [
        "isDem = []\n",
        "for dis in dfe['politic_attribute']:\n",
        "  if dis == 'Democratic':\n",
        "    isDem.append(1)\n",
        "  else:\n",
        "    isDem.append(0)\n",
        "dfe['isDem'] = isDem"
      ],
      "metadata": {
        "id": "K5OwXGuVkS2W"
      },
      "execution_count": 51,
      "outputs": []
    },
    {
      "cell_type": "code",
      "source": [
        "dfe[dfe['isRemoved']==1].isDem.value_counts()/25836\n",
        "dfe[dfe['isRemoved']==0].isDem.value_counts()/553828"
      ],
      "metadata": {
        "colab": {
          "base_uri": "https://localhost:8080/"
        },
        "id": "ZtsogYoAeEwW",
        "outputId": "2d8e1da6-2200-4b47-f89f-4e28e084f616"
      },
      "execution_count": 52,
      "outputs": [
        {
          "output_type": "execute_result",
          "data": {
            "text/plain": [
              "1    0.598209\n",
              "0    0.401791\n",
              "Name: isDem, dtype: float64"
            ]
          },
          "metadata": {},
          "execution_count": 52
        }
      ]
    },
    {
      "cell_type": "code",
      "source": [
        "dfe[dfe['isRemoved']==1].servicing_lender_city.value_counts()"
      ],
      "metadata": {
        "colab": {
          "base_uri": "https://localhost:8080/"
        },
        "id": "Ij8244I5icmK",
        "outputId": "b887ea35-7fc4-4c61-ad1e-c3591cd1729e"
      },
      "execution_count": 53,
      "outputs": [
        {
          "output_type": "execute_result",
          "data": {
            "text/plain": [
              "Bedford         6269\n",
              "Phoenix         5283\n",
              "Brea            3639\n",
              "PHOENIXVILLE    2713\n",
              "Laguna Hills    2012\n",
              "                ... \n",
              "GLENNVILLE         1\n",
              "DIMMITT            1\n",
              "TALBOTTON          1\n",
              "Orlando            1\n",
              "BLAKELY            1\n",
              "Name: servicing_lender_city, Length: 80, dtype: int64"
            ]
          },
          "metadata": {},
          "execution_count": 53
        }
      ]
    },
    {
      "cell_type": "code",
      "source": [
        "dfe[dfe['isRemoved']==0].servicing_lender_city.value_counts()"
      ],
      "metadata": {
        "colab": {
          "base_uri": "https://localhost:8080/"
        },
        "id": "SD7EKaIuirc7",
        "outputId": "dcb06076-1aa1-43aa-8dbe-e3984ac6e41c"
      },
      "execution_count": 54,
      "outputs": [
        {
          "output_type": "execute_result",
          "data": {
            "text/plain": [
              "Laguna Hills    60048\n",
              "Phoenix         52041\n",
              "Bedford         45986\n",
              "TEANECK         35956\n",
              "CHARLOTTE       35381\n",
              "                ...  \n",
              "LAMONT              1\n",
              "WALNUT RIDGE        1\n",
              "LONG BEACH          1\n",
              "SHANNON             1\n",
              "MORGANFIELD         1\n",
              "Name: servicing_lender_city, Length: 857, dtype: int64"
            ]
          },
          "metadata": {},
          "execution_count": 54
        }
      ]
    },
    {
      "cell_type": "code",
      "source": [
        "dfe[dfe['isRemoved']==0].business_age_description.value_counts()"
      ],
      "metadata": {
        "colab": {
          "base_uri": "https://localhost:8080/"
        },
        "id": "xPvrPgsaaroF",
        "outputId": "58d06da6-0571-4291-8ba2-829ebf460031"
      },
      "execution_count": 55,
      "outputs": [
        {
          "output_type": "execute_result",
          "data": {
            "text/plain": [
              "Existing or more than 2 years old         511266\n",
              "New Business or 2 years or less            26578\n",
              "Unanswered                                 15863\n",
              "Startup, Loan Funds will Open Business        75\n",
              "Change of Ownership                           46\n",
              "Name: business_age_description, dtype: int64"
            ]
          },
          "metadata": {},
          "execution_count": 55
        }
      ]
    },
    {
      "cell_type": "code",
      "source": [
        "dfe[dfe['isRemoved']==1].business_age_description.value_counts()"
      ],
      "metadata": {
        "colab": {
          "base_uri": "https://localhost:8080/"
        },
        "id": "lPW4ZxHLafQ3",
        "outputId": "5501160b-f248-422a-d4d6-e8d9bd4f4c96"
      },
      "execution_count": 56,
      "outputs": [
        {
          "output_type": "execute_result",
          "data": {
            "text/plain": [
              "Existing or more than 2 years old    25799\n",
              "New Business or 2 years or less         31\n",
              "Unanswered                               6\n",
              "Name: business_age_description, dtype: int64"
            ]
          },
          "metadata": {},
          "execution_count": 56
        }
      ]
    },
    {
      "cell_type": "code",
      "source": [
        "isuniform = []\n",
        "for id in range(len(dfe)):\n",
        "  if dfe['originating_lender_location_id'][id] == dfe['servicing_lender_location_id'][id]:\n",
        "    isuniform.append(1)\n",
        "  else:\n",
        "    isuniform.append(0)"
      ],
      "metadata": {
        "id": "Owse942lbax5"
      },
      "execution_count": 57,
      "outputs": []
    },
    {
      "cell_type": "code",
      "source": [
        "dfe['isuniform'] = isuniform"
      ],
      "metadata": {
        "id": "-kbYJfUvcQbr"
      },
      "execution_count": 58,
      "outputs": []
    },
    {
      "cell_type": "code",
      "source": [
        "dfe[dfe['isRemoved']==1].isuniform.value_counts()/(25394+442)"
      ],
      "metadata": {
        "colab": {
          "base_uri": "https://localhost:8080/"
        },
        "id": "_WO2_XvgMkoP",
        "outputId": "6887f5ee-1bf2-4840-a313-2b403b1de347"
      },
      "execution_count": 59,
      "outputs": [
        {
          "output_type": "execute_result",
          "data": {
            "text/plain": [
              "1    0.982892\n",
              "0    0.017108\n",
              "Name: isuniform, dtype: float64"
            ]
          },
          "metadata": {},
          "execution_count": 59
        }
      ]
    },
    {
      "cell_type": "code",
      "source": [
        "dfe[dfe['isRemoved']==0].isuniform.value_counts()/(512259+41569)"
      ],
      "metadata": {
        "colab": {
          "base_uri": "https://localhost:8080/"
        },
        "id": "-d1fB3pDM0LN",
        "outputId": "fc59774f-1949-4a7f-f4f9-c2bd49e0c3b7"
      },
      "execution_count": 60,
      "outputs": [
        {
          "output_type": "execute_result",
          "data": {
            "text/plain": [
              "1    0.924942\n",
              "0    0.075058\n",
              "Name: isuniform, dtype: float64"
            ]
          },
          "metadata": {},
          "execution_count": 60
        }
      ]
    },
    {
      "cell_type": "code",
      "source": [
        "dfe['date_approved']=pd.to_datetime(dfe['date_approved'])"
      ],
      "metadata": {
        "id": "t88X801aDvp5"
      },
      "execution_count": 61,
      "outputs": []
    },
    {
      "cell_type": "code",
      "source": [
        "dfe['forgiveness_date']=pd.to_datetime(dfe['forgiveness_date'])"
      ],
      "metadata": {
        "id": "pneUIa6HK6u5"
      },
      "execution_count": 62,
      "outputs": []
    },
    {
      "cell_type": "code",
      "source": [
        "YF,MF,DF=[],[],[]\n",
        "for i in range(len(dfe['forgiveness_date'])):\n",
        "        oneday=dfe['forgiveness_date'][i]\n",
        "        year=oneday.year\n",
        "        month=oneday.month\n",
        "        day=oneday.day\n",
        "\n",
        "        YF.append(year)\n",
        "        MF.append(month)\n",
        "        DF.append(day)\n",
        "\n",
        "dfe['forgivenessyear']=YF\n",
        "dfe['forgivenessmonth']=MF\n",
        "dfe['forgivenessday']=DF"
      ],
      "metadata": {
        "id": "Yj-H_944TiI9"
      },
      "execution_count": 63,
      "outputs": []
    },
    {
      "cell_type": "code",
      "source": [
        "Y,M,D=[],[],[]\n",
        "for i in range(len(dfe['date_approved'])):\n",
        "        oneday=dfe['date_approved'][i]\n",
        "        year=oneday.year\n",
        "        month=oneday.month\n",
        "        day=oneday.day\n",
        "\n",
        "        Y.append(year)\n",
        "        M.append(month)\n",
        "        D.append(day)\n",
        "\n",
        "dfe['approvedyear']=Y\n",
        "dfe['approvedmonth']=M\n",
        "dfe['approvedday']=D"
      ],
      "metadata": {
        "id": "E-O0VfGWKJFz"
      },
      "execution_count": 64,
      "outputs": []
    },
    {
      "cell_type": "code",
      "source": [
        "quarter = []\n",
        "for i in dfe['approvedmonth']:\n",
        "  if 1<= i <= 3:\n",
        "    quarter.append(1)\n",
        "  elif 4<= i <= 6:\n",
        "    quarter.append(2)\n",
        "  elif 6<= i <= 10:\n",
        "    quarter.append(3)\n",
        "  else:\n",
        "    quarter.append(4)\n",
        "\n",
        "dfe['quarter'] = quarter\n",
        "dfe[dfe['isRemoved'] == 1].quarter.value_counts().plot.pie()"
      ],
      "metadata": {
        "colab": {
          "base_uri": "https://localhost:8080/",
          "height": 265
        },
        "id": "Gw2FZAD6e36l",
        "outputId": "a1116ad0-9126-4109-b536-e3aab2d97ee7"
      },
      "execution_count": 65,
      "outputs": [
        {
          "output_type": "execute_result",
          "data": {
            "text/plain": [
              "<matplotlib.axes._subplots.AxesSubplot at 0x7f6d5a15c490>"
            ]
          },
          "metadata": {},
          "execution_count": 65
        },
        {
          "output_type": "display_data",
          "data": {
            "image/png": "[encoded data removed]",
            "text/plain": [
              "<Figure size 432x288 with 1 Axes>"
            ]
          },
          "metadata": {}
        }
      ]
    },
    {
      "cell_type": "code",
      "source": [
        "dfe[dfe['isRemoved'] == 0].quarter.value_counts().plot.pie()"
      ],
      "metadata": {
        "colab": {
          "base_uri": "https://localhost:8080/",
          "height": 265
        },
        "id": "6FOvygcDiSJj",
        "outputId": "05047a51-d39f-4ffa-9129-3fab69042f3e"
      },
      "execution_count": 66,
      "outputs": [
        {
          "output_type": "execute_result",
          "data": {
            "text/plain": [
              "<matplotlib.axes._subplots.AxesSubplot at 0x7f6d5a13b290>"
            ]
          },
          "metadata": {},
          "execution_count": 66
        },
        {
          "output_type": "display_data",
          "data": {
            "image/png": "[encoded data removed]",
            "text/plain": [
              "<Figure size 432x288 with 1 Axes>"
            ]
          },
          "metadata": {}
        }
      ]
    },
    {
      "cell_type": "code",
      "source": [
        "#For unremoved data, most of them were approved in Q2\n",
        "plt.figure(figsize=(6,9)) \n",
        "colors = ['yellow','yellowgreen','lightskyblue'] \n",
        "explode = (0,0,0) \n",
        "patches,text1,text2 = plt.pie(dfe[dfe['isRemoved'] == 0].quarter.value_counts(),\n",
        "                      labels=['Q2','Q1','Q3'],\n",
        "                      explode=explode,\n",
        "                      colors=colors,\n",
        "                      autopct = '%3.2f%%', \n",
        "                      shadow = False, \n",
        "                      startangle =90, \n",
        "                      pctdistance = 0.6) \n",
        "\n",
        "plt.axis('equal')\n",
        "plt.legend()\n",
        "plt.show()\n",
        "\n"
      ],
      "metadata": {
        "colab": {
          "base_uri": "https://localhost:8080/",
          "height": 520
        },
        "id": "PyoTUe_njRyF",
        "outputId": "abb85c51-6e44-4c03-a251-e0d640794267"
      },
      "execution_count": 67,
      "outputs": [
        {
          "output_type": "display_data",
          "data": {
            "image/png": "[encoded data removed]",
            "text/plain": [
              "<Figure size 432x648 with 1 Axes>"
            ]
          },
          "metadata": {}
        }
      ]
    },
    {
      "cell_type": "code",
      "source": [
        "dfe['approvedmonth'].value_counts()"
      ],
      "metadata": {
        "colab": {
          "base_uri": "https://localhost:8080/"
        },
        "id": "ZLsmYw7QgMon",
        "outputId": "f5034c9e-4693-4dce-c614-a0957bbd733f"
      },
      "execution_count": 68,
      "outputs": [
        {
          "output_type": "execute_result",
          "data": {
            "text/plain": [
              "4    243881\n",
              "5    157079\n",
              "3     76878\n",
              "2     47358\n",
              "1     19749\n",
              "6     18501\n",
              "7     10899\n",
              "8      5319\n",
              "Name: approvedmonth, dtype: int64"
            ]
          },
          "metadata": {},
          "execution_count": 68
        }
      ]
    },
    {
      "cell_type": "code",
      "source": [
        "dfe['loan_status_date']=pd.to_datetime(dfe['loan_status_date'])"
      ],
      "metadata": {
        "id": "5gpAlRKXt729"
      },
      "execution_count": 69,
      "outputs": []
    },
    {
      "cell_type": "code",
      "source": [
        "YL,ML,DL=[],[],[]\n",
        "for i in range(len(dfe['loan_status_date'])):\n",
        "        oneday=dfe['loan_status_date'][i]\n",
        "        year=oneday.year\n",
        "        month=oneday.month\n",
        "        day=oneday.day\n",
        "\n",
        "        YL.append(year)\n",
        "        ML.append(month)\n",
        "        DL.append(day)\n",
        "\n",
        "dfe['loan_statusyear']=YL\n",
        "dfe['loan_statusmonth']=ML\n",
        "dfe['loan_statusday']=DL"
      ],
      "metadata": {
        "id": "pEsNdNAsttjc"
      },
      "execution_count": 70,
      "outputs": []
    },
    {
      "cell_type": "code",
      "source": [
        "dfe[dfe['isRemoved']==1].originating_lender_city.value_counts()"
      ],
      "metadata": {
        "colab": {
          "base_uri": "https://localhost:8080/"
        },
        "id": "rCoJh1Qfom8c",
        "outputId": "a044869c-3622-408e-966d-f18fbbd89c41"
      },
      "execution_count": 71,
      "outputs": [
        {
          "output_type": "execute_result",
          "data": {
            "text/plain": [
              "Bedford         6269\n",
              "Phoenix         5283\n",
              "Brea            4047\n",
              "PHOENIXVILLE    2694\n",
              "ARLINGTON       1942\n",
              "                ... \n",
              "GLENNVILLE         1\n",
              "DIMMITT            1\n",
              "TALBOTTON          1\n",
              "Orlando            1\n",
              "BLAKELY            1\n",
              "Name: originating_lender_city, Length: 80, dtype: int64"
            ]
          },
          "metadata": {},
          "execution_count": 71
        }
      ]
    },
    {
      "cell_type": "code",
      "source": [
        "dfe[dfe['isRemoved']==0].originating_lender_city.value_counts()"
      ],
      "metadata": {
        "colab": {
          "base_uri": "https://localhost:8080/"
        },
        "id": "XNexeJSNoyfG",
        "outputId": "b27f276f-228e-4654-fc50-09b574c51d69"
      },
      "execution_count": 72,
      "outputs": [
        {
          "output_type": "execute_result",
          "data": {
            "text/plain": [
              "Phoenix         52041\n",
              "Bedford         45980\n",
              "Laguna Hills    39261\n",
              "CHARLOTTE       35381\n",
              "Miami           33574\n",
              "                ...  \n",
              "WILLIAMSBURG        1\n",
              "NEENAH              1\n",
              "ROCKY MOUNT         1\n",
              "SAMSON              1\n",
              "MORGANFIELD         1\n",
              "Name: originating_lender_city, Length: 861, dtype: int64"
            ]
          },
          "metadata": {},
          "execution_count": 72
        }
      ]
    },
    {
      "cell_type": "code",
      "source": [
        "dfe[dfe['isRemoved']==1].project_state.value_counts()"
      ],
      "metadata": {
        "colab": {
          "base_uri": "https://localhost:8080/"
        },
        "id": "eSO1N66Fo6zb",
        "outputId": "53a54255-1e52-43d7-cde2-e19a4c0ada03"
      },
      "execution_count": 73,
      "outputs": [
        {
          "output_type": "execute_result",
          "data": {
            "text/plain": [
              "GA    25836\n",
              "Name: project_state, dtype: int64"
            ]
          },
          "metadata": {},
          "execution_count": 73
        }
      ]
    },
    {
      "cell_type": "code",
      "source": [
        "dfe[dfe['isRemoved']==0].project_state.value_counts()"
      ],
      "metadata": {
        "colab": {
          "base_uri": "https://localhost:8080/"
        },
        "id": "6tiDBlagpFIk",
        "outputId": "4d992bca-0597-49cf-dca3-e9c936916c14"
      },
      "execution_count": 74,
      "outputs": [
        {
          "output_type": "execute_result",
          "data": {
            "text/plain": [
              "GA    553814\n",
              "FL         4\n",
              "SC         3\n",
              "OH         1\n",
              "TN         1\n",
              "MO         1\n",
              "VA         1\n",
              "UT         1\n",
              "AL         1\n",
              "TX         1\n",
              "Name: project_state, dtype: int64"
            ]
          },
          "metadata": {},
          "execution_count": 74
        }
      ]
    },
    {
      "cell_type": "markdown",
      "source": [
        "# Predictive Analysis - Classification"
      ],
      "metadata": {
        "id": "FB7L9sV3xUqe"
      }
    },
    {
      "cell_type": "code",
      "source": [
        "dfe = dfe.reset_index(drop=True)\n",
        "\n",
        "# Look at correlation between isRemoved and other variables to select initial feature set\n",
        "\n",
        "dfe[dfe.columns[1:]].corr()['isRemoved']"
      ],
      "metadata": {
        "colab": {
          "base_uri": "https://localhost:8080/"
        },
        "id": "j2y0f87d5rnZ",
        "outputId": "f9bbc0b0-24b9-4588-ceac-a86bb006501b"
      },
      "execution_count": 75,
      "outputs": [
        {
          "output_type": "execute_result",
          "data": {
            "text/plain": [
              "amount                           -0.028203\n",
              "naics_code                        0.021894\n",
              "jobs_retained                    -0.041674\n",
              "loan_number                       0.046684\n",
              "sba_office_code                  -0.000577\n",
              "term                              0.118474\n",
              "sba_guaranty_percentage                NaN\n",
              "initial_approval_amount          -0.028009\n",
              "current_approval_amount          -0.028203\n",
              "undisbursed_amount                0.251989\n",
              "servicing_lender_location_id      0.071092\n",
              "originating_lender_location_id    0.071153\n",
              "forgiveness_amount                     NaN\n",
              "isRemoved                         1.000000\n",
              "isTandW                           0.006120\n",
              "isSP                              0.110134\n",
              "isIC                              0.031887\n",
              "isSEI                            -0.017878\n",
              "isLLC                            -0.067156\n",
              "isPPP                             0.016562\n",
              "isAtlanta                         0.003324\n",
              "isHabzone                        -0.034855\n",
              "isRural                          -0.008258\n",
              "isLMI                             0.026876\n",
              "isDisbursed                      -0.940874\n",
              "BAge2                             0.059644\n",
              "isDem                             0.017424\n",
              "isuniform                         0.046123\n",
              "forgivenessyear                        NaN\n",
              "forgivenessmonth                       NaN\n",
              "forgivenessday                         NaN\n",
              "approvedyear                      0.135325\n",
              "approvedmonth                     0.081303\n",
              "approvedday                       0.022661\n",
              "quarter                           0.073438\n",
              "loan_statusyear                   0.036207\n",
              "loan_statusmonth                 -0.281288\n",
              "loan_statusday                    0.010008\n",
              "Name: isRemoved, dtype: float64"
            ]
          },
          "metadata": {},
          "execution_count": 75
        }
      ]
    },
    {
      "cell_type": "code",
      "source": [
        "import xgboost as xgb\n",
        "from sklearn.linear_model import LinearRegression, LogisticRegression\n",
        "from sklearn.tree import DecisionTreeRegressor, DecisionTreeClassifier\n",
        "from sklearn.metrics import roc_auc_score, r2_score, precision_score, recall_score, confusion_matrix, classification_report, accuracy_score, f1_score\n",
        "from sklearn.metrics import mean_squared_error as mse\n",
        "from sklearn.model_selection import train_test_split\n",
        "from sklearn.ensemble import RandomForestRegressor, RandomForestClassifier\n",
        "from sklearn.datasets import make_regression\n",
        "from sklearn.ensemble import AdaBoostRegressor\n",
        "from sklearn.datasets import make_classification\n",
        "from sklearn.ensemble import AdaBoostClassifier"
      ],
      "metadata": {
        "id": "gWj-pJed5aUs"
      },
      "execution_count": 76,
      "outputs": []
    },
    {
      "cell_type": "code",
      "source": [
        "# Setup the data for SK Learn\n",
        "\n",
        "# Feature matrix will include variables with largest correlations to isRemoved \n",
        "X = dfe[['term','undisbursed_amount', 'approvedyear','loan_statusmonth','isSP','isDisbursed']]\n",
        "#X = dfe[['term','undisbursed_amount', 'approvedyear','loan_statusmonth']]\n",
        "y = pd.Series(dfe.isRemoved) # Target vector in pd.Series format\n",
        "\n",
        "\n",
        "\n",
        "# Making train and test sets for both X and y\n",
        "X_train, X_test, y_train, y_test = train_test_split(X, y, test_size=0.2, \n",
        "                                                    random_state=123, shuffle=True)\n",
        "\n",
        "# Instantiate XGBoost object with hyperparameters...No hyperparameter tuning is included in this example but would be beneficial\n",
        "cla_model = xgb.XGBClassifier(max_depth=5, n_estimators=10,\n",
        "                           reg_alpha=0.5, reg_lambda=0,\n",
        "                           objective=\"binary:logistic\", booster='gbtree',\n",
        "                           random_state=123, learning_rate=0.1)\n",
        "#cla_model = LogisticRegression()\n",
        "#cla_model = DecisionTreeClassifier()\n",
        "\n",
        "# Fit the data(train the model)\n",
        "cla_model.fit(X_train, y_train)\n",
        "\n",
        "# Calculate evaluation metrics for classification model\n",
        "train_y_pred = cla_model.predict(X_train) # Predictions for training data\n",
        "train_y_true = y_train # True values for training data\n",
        "\n",
        "test_y_pred = cla_model.predict(X_test) # Predictions for testing data\n",
        "test_y_true = y_test # True values for testing data\n",
        "\n",
        "\n",
        "print('\\n clasification report:\\n', classification_report(test_y_true, test_y_pred))\n",
        "print('\\n confussion matrix:\\n',confusion_matrix(test_y_true, test_y_pred))\n",
        "print('\\n ROC AUC: \\n',roc_auc_score(test_y_true, test_y_pred))"
      ],
      "metadata": {
        "id": "ld35910u8LrH",
        "colab": {
          "base_uri": "https://localhost:8080/"
        },
        "outputId": "b073dbad-d04c-4c61-ab66-13d00c43285b"
      },
      "execution_count": 78,
      "outputs": [
        {
          "output_type": "stream",
          "name": "stdout",
          "text": [
            "\n",
            " clasification report:\n",
            "               precision    recall  f1-score   support\n",
            "\n",
            "           0       1.00      1.00      1.00    110780\n",
            "           1       0.99      0.90      0.94      5153\n",
            "\n",
            "    accuracy                           0.99    115933\n",
            "   macro avg       0.99      0.95      0.97    115933\n",
            "weighted avg       0.99      0.99      0.99    115933\n",
            "\n",
            "\n",
            " confussion matrix:\n",
            " [[110713     67]\n",
            " [   513   4640]]\n",
            "\n",
            " ROC AUC: \n",
            " 0.9499207698129247\n"
          ]
        }
      ]
    }
  ]
}